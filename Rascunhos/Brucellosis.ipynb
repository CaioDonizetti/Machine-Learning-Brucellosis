{
 "cells": [
  {
   "cell_type": "markdown",
   "metadata": {},
   "source": [
    "## **IMPORT**"
   ]
  },
  {
   "cell_type": "code",
   "execution_count": 172,
   "metadata": {},
   "outputs": [],
   "source": [
    "import pandas as pd\n",
    "import numpy as np\n",
    "import matplotlib.pyplot as plt\n",
    "import seaborn as sns\n",
    "\n",
    "# Biblioteca para fazer a PADRONIZAÇÃO\n",
    "from sklearn.preprocessing import StandardScaler\n",
    "\n",
    "# Biblioteca para fazer a NORMALIZAÇÃO\n",
    "from sklearn.preprocessing import MinMaxScaler\n",
    "\n",
    "# Bilioteca para separação de dados em treino e teste\n",
    "from sklearn.model_selection import train_test_split\n",
    "\n",
    "from sklearn.neural_network import MLPClassifier\n",
    "\n",
    "# Biblioteca para calcular a acuracia do modelo\n",
    "from sklearn.metrics import accuracy_score\n",
    "from sklearn.cluster import KMeans\n",
    "from sklearn.metrics import classification_report\n",
    "from sklearn.metrics import confusion_matrix, ConfusionMatrixDisplay\n",
    "from sklearn.metrics import RocCurveDisplay\n",
    "from sklearn.metrics import roc_auc_score\n",
    "\n",
    "import lime\n",
    "import lime.lime_tabular\n",
    "\n",
    "from anchor import utils\n",
    "from anchor import anchor_tabular\n",
    "\n",
    "from imblearn.over_sampling import ADASYN\n",
    "from collections import Counter\n"
   ]
  },
  {
   "cell_type": "markdown",
   "metadata": {},
   "source": [
    "## **CARREGA DADOS**"
   ]
  },
  {
   "cell_type": "code",
   "execution_count": 384,
   "metadata": {},
   "outputs": [
    {
     "name": "stdout",
     "output_type": "stream",
     "text": [
      "(2185, 50)\n"
     ]
    },
    {
     "data": {
      "text/html": [
       "<div>\n",
       "<style scoped>\n",
       "    .dataframe tbody tr th:only-of-type {\n",
       "        vertical-align: middle;\n",
       "    }\n",
       "\n",
       "    .dataframe tbody tr th {\n",
       "        vertical-align: top;\n",
       "    }\n",
       "\n",
       "    .dataframe thead th {\n",
       "        text-align: right;\n",
       "    }\n",
       "</style>\n",
       "<table border=\"1\" class=\"dataframe\">\n",
       "  <thead>\n",
       "    <tr style=\"text-align: right;\">\n",
       "      <th></th>\n",
       "      <th>regiao</th>\n",
       "      <th>exploracao</th>\n",
       "      <th>criacao</th>\n",
       "      <th>n_ordenha</th>\n",
       "      <th>t_ordenha</th>\n",
       "      <th>inseminacao_2cat</th>\n",
       "      <th>raca_bovinos</th>\n",
       "      <th>total_animais_prop</th>\n",
       "      <th>ov_capr</th>\n",
       "      <th>eq</th>\n",
       "      <th>...</th>\n",
       "      <th>como_resfr</th>\n",
       "      <th>leite_granel</th>\n",
       "      <th>queijo_mant</th>\n",
       "      <th>final_queijo_mant</th>\n",
       "      <th>consome_leite_cru</th>\n",
       "      <th>assist_vet</th>\n",
       "      <th>tipo_assist</th>\n",
       "      <th>aguadas_bebedouro</th>\n",
       "      <th>classificacao_propriedade</th>\n",
       "      <th>resul_prop</th>\n",
       "    </tr>\n",
       "  </thead>\n",
       "  <tbody>\n",
       "    <tr>\n",
       "      <th>0</th>\n",
       "      <td>6</td>\n",
       "      <td>2</td>\n",
       "      <td>3</td>\n",
       "      <td>1</td>\n",
       "      <td>1</td>\n",
       "      <td>0</td>\n",
       "      <td>2</td>\n",
       "      <td>15</td>\n",
       "      <td>0</td>\n",
       "      <td>0</td>\n",
       "      <td>...</td>\n",
       "      <td>-1</td>\n",
       "      <td>0</td>\n",
       "      <td>0</td>\n",
       "      <td>-1</td>\n",
       "      <td>1</td>\n",
       "      <td>0</td>\n",
       "      <td>-1</td>\n",
       "      <td>0</td>\n",
       "      <td>1</td>\n",
       "      <td>0</td>\n",
       "    </tr>\n",
       "    <tr>\n",
       "      <th>1</th>\n",
       "      <td>6</td>\n",
       "      <td>2</td>\n",
       "      <td>2</td>\n",
       "      <td>2</td>\n",
       "      <td>3</td>\n",
       "      <td>0</td>\n",
       "      <td>2</td>\n",
       "      <td>142</td>\n",
       "      <td>0</td>\n",
       "      <td>1</td>\n",
       "      <td>...</td>\n",
       "      <td>1</td>\n",
       "      <td>1</td>\n",
       "      <td>0</td>\n",
       "      <td>-1</td>\n",
       "      <td>1</td>\n",
       "      <td>0</td>\n",
       "      <td>-1</td>\n",
       "      <td>0</td>\n",
       "      <td>1</td>\n",
       "      <td>0</td>\n",
       "    </tr>\n",
       "    <tr>\n",
       "      <th>2</th>\n",
       "      <td>6</td>\n",
       "      <td>2</td>\n",
       "      <td>2</td>\n",
       "      <td>2</td>\n",
       "      <td>2</td>\n",
       "      <td>0</td>\n",
       "      <td>2</td>\n",
       "      <td>40</td>\n",
       "      <td>0</td>\n",
       "      <td>1</td>\n",
       "      <td>...</td>\n",
       "      <td>-1</td>\n",
       "      <td>0</td>\n",
       "      <td>0</td>\n",
       "      <td>-1</td>\n",
       "      <td>1</td>\n",
       "      <td>0</td>\n",
       "      <td>-1</td>\n",
       "      <td>0</td>\n",
       "      <td>1</td>\n",
       "      <td>0</td>\n",
       "    </tr>\n",
       "    <tr>\n",
       "      <th>3</th>\n",
       "      <td>6</td>\n",
       "      <td>2</td>\n",
       "      <td>2</td>\n",
       "      <td>2</td>\n",
       "      <td>1</td>\n",
       "      <td>0</td>\n",
       "      <td>2</td>\n",
       "      <td>68</td>\n",
       "      <td>0</td>\n",
       "      <td>0</td>\n",
       "      <td>...</td>\n",
       "      <td>-1</td>\n",
       "      <td>1</td>\n",
       "      <td>0</td>\n",
       "      <td>-1</td>\n",
       "      <td>1</td>\n",
       "      <td>0</td>\n",
       "      <td>-1</td>\n",
       "      <td>0</td>\n",
       "      <td>1</td>\n",
       "      <td>0</td>\n",
       "    </tr>\n",
       "    <tr>\n",
       "      <th>4</th>\n",
       "      <td>6</td>\n",
       "      <td>2</td>\n",
       "      <td>2</td>\n",
       "      <td>1</td>\n",
       "      <td>1</td>\n",
       "      <td>0</td>\n",
       "      <td>2</td>\n",
       "      <td>38</td>\n",
       "      <td>0</td>\n",
       "      <td>0</td>\n",
       "      <td>...</td>\n",
       "      <td>-1</td>\n",
       "      <td>0</td>\n",
       "      <td>1</td>\n",
       "      <td>2</td>\n",
       "      <td>1</td>\n",
       "      <td>0</td>\n",
       "      <td>-1</td>\n",
       "      <td>0</td>\n",
       "      <td>1</td>\n",
       "      <td>0</td>\n",
       "    </tr>\n",
       "  </tbody>\n",
       "</table>\n",
       "<p>5 rows × 50 columns</p>\n",
       "</div>"
      ],
      "text/plain": [
       "   regiao  exploracao  criacao  n_ordenha  t_ordenha  inseminacao_2cat  \\\n",
       "0       6           2        3          1          1                 0   \n",
       "1       6           2        2          2          3                 0   \n",
       "2       6           2        2          2          2                 0   \n",
       "3       6           2        2          2          1                 0   \n",
       "4       6           2        2          1          1                 0   \n",
       "\n",
       "   raca_bovinos  total_animais_prop  ov_capr  eq  ...  como_resfr  \\\n",
       "0             2                  15        0   0  ...          -1   \n",
       "1             2                 142        0   1  ...           1   \n",
       "2             2                  40        0   1  ...          -1   \n",
       "3             2                  68        0   0  ...          -1   \n",
       "4             2                  38        0   0  ...          -1   \n",
       "\n",
       "   leite_granel  queijo_mant  final_queijo_mant  consome_leite_cru  \\\n",
       "0             0            0                 -1                  1   \n",
       "1             1            0                 -1                  1   \n",
       "2             0            0                 -1                  1   \n",
       "3             1            0                 -1                  1   \n",
       "4             0            1                  2                  1   \n",
       "\n",
       "   assist_vet  tipo_assist  aguadas_bebedouro  classificacao_propriedade  \\\n",
       "0           0           -1                  0                          1   \n",
       "1           0           -1                  0                          1   \n",
       "2           0           -1                  0                          1   \n",
       "3           0           -1                  0                          1   \n",
       "4           0           -1                  0                          1   \n",
       "\n",
       "   resul_prop  \n",
       "0           0  \n",
       "1           0  \n",
       "2           0  \n",
       "3           0  \n",
       "4           0  \n",
       "\n",
       "[5 rows x 50 columns]"
      ]
     },
     "execution_count": 384,
     "metadata": {},
     "output_type": "execute_result"
    }
   ],
   "source": [
    "data = pd.read_csv('../Base de Dados/Dados_49_V.csv', na_values='?')\n",
    "\n",
    "print(data.shape)\n",
    "data.head()"
   ]
  },
  {
   "cell_type": "markdown",
   "metadata": {},
   "source": [
    "## **ANÁLISE DE DADOS**"
   ]
  },
  {
   "cell_type": "code",
   "execution_count": null,
   "metadata": {},
   "outputs": [],
   "source": [
    "data['resul_prop'].value_counts().plot(kind='bar', title='Distribuição', figsize=(10, 6), rot=0)\n",
    "plt.show()\n",
    "\n",
    "print(data['resul_prop'].value_counts(normalize=True))\n",
    "print(data['resul_prop'].value_counts())\n",
    "\n",
    "#data.describe()\n",
    "\n",
    "#data['teste_bruc'].hist()"
   ]
  },
  {
   "cell_type": "markdown",
   "metadata": {},
   "source": [
    "## **TRATAMENTO DE DADOS**"
   ]
  },
  {
   "cell_type": "code",
   "execution_count": null,
   "metadata": {},
   "outputs": [],
   "source": [
    "# Gerando um DataFrame das variáveis preditoras originais SEM a variável TARGET\n",
    "VAR_PREDITORAS_ORIG = data.drop('resul_prop', axis = 1)\n",
    "\n",
    "# Gerando um DataFrame somente da variavel TARGET\n",
    "VAR_TARGET = data['resul_prop']"
   ]
  },
  {
   "cell_type": "markdown",
   "metadata": {},
   "source": [
    "### **NORMALIZAÇÃO**"
   ]
  },
  {
   "cell_type": "code",
   "execution_count": null,
   "metadata": {},
   "outputs": [],
   "source": [
    "# Criando um objeto para NORMALIZAR os dados\n",
    "obj_normalizacao = MinMaxScaler().fit(VAR_PREDITORAS_ORIG)\n",
    "\n",
    "# Aplicando a NORMALIZAÇÃO\n",
    "VAR_PREDITORAS_NORM = obj_normalizacao.transform(VAR_PREDITORAS_ORIG)\n",
    "\n",
    "# Transformando para DataFrame e nomeando as colunas\n",
    "VAR_PREDITORAS_NORM = pd.DataFrame(VAR_PREDITORAS_NORM)\n",
    "\n",
    "VAR_PREDITORAS_NORM.columns = data.drop('resul_prop', axis = 1).columns\n",
    "\n",
    "VAR_PREDITORAS_NORM\n",
    "\n",
    "plt.figure(figsize=(20,6))\n",
    "ax = sns.boxplot(data=VAR_PREDITORAS_NORM)"
   ]
  },
  {
   "cell_type": "markdown",
   "metadata": {},
   "source": [
    "### **PADRONIZAÇÃO**"
   ]
  },
  {
   "cell_type": "code",
   "execution_count": null,
   "metadata": {},
   "outputs": [],
   "source": [
    "# Criando um objeto para PADRONIZAR os dados\n",
    "obj_padronizacao = StandardScaler().fit(VAR_PREDITORAS_ORIG)\n",
    "\n",
    "# Aplicando a PADRONIZAÇÃO\n",
    "VAR_PREDITORAS_PRAD = obj_padronizacao.transform(VAR_PREDITORAS_ORIG)\n",
    "\n",
    "# Transformando para DataFrame e nomeando as colunas\n",
    "VAR_PREDITORAS_PRAD = pd.DataFrame(VAR_PREDITORAS_PRAD)\n",
    "\n",
    "VAR_PREDITORAS_PRAD.columns = data.drop('resul_prop', axis = 1).columns\n",
    "\n",
    "plt.figure(figsize=(20,6))\n",
    "ax = sns.boxplot(data=VAR_PREDITORAS_PRAD)"
   ]
  },
  {
   "cell_type": "markdown",
   "metadata": {},
   "source": [
    "## **AGRUPAMENTO**"
   ]
  },
  {
   "cell_type": "code",
   "execution_count": 169,
   "metadata": {},
   "outputs": [],
   "source": [
    "DATA_NORM = VAR_PREDITORAS_NORM.assign(resul_prop=VAR_TARGET)\n",
    "DATA_NORM_NEG = VAR_PREDITORAS_NORM.assign(resul_prop=VAR_TARGET).query('resul_prop == 0').reset_index(drop=True)\n",
    "DATA_NORM_POS = VAR_PREDITORAS_NORM.assign(resul_prop=VAR_TARGET).query('resul_prop == 1').reset_index(drop=True)\n",
    "\n",
    "kmeans = KMeans(n_clusters=4, random_state=0, n_init=\"auto\").fit(DATA_NORM_NEG.drop('resul_prop', axis = 1))\n",
    "#print(kmeans.labels_)\n",
    "\n",
    "#print(pd.DataFrame(kmeans.labels_))\n",
    "DATA_NORM_NEG = DATA_NORM_NEG.assign(group=pd.DataFrame(kmeans.labels_))\n",
    "\n",
    "DATA_NORM_NEG_GROUP0 = DATA_NORM_NEG.query('group == 0')\n",
    "#print(DATA_NORM_NEG_GROUP0.shape)\n",
    "\n",
    "DATA_NORM_NEG_GROUP1 = DATA_NORM_NEG.query('group == 1')\n",
    "#print(DATA_NORM_NEG_GROUP1.shape)\n",
    "\n",
    "DATA_NORM_NEG_GROUP2 = DATA_NORM_NEG.query('group == 2')\n",
    "#print(DATA_NORM_NEG_GROUP2.shape)\n",
    "\n",
    "DATA_NORM_NEG_GROUP3 = DATA_NORM_NEG.query('group == 3')\n",
    "#print(DATA_NORM_NEG_GROUP3.shape)\n",
    "\n",
    "DATA_NORM_NEG_GROUP0 = DATA_NORM_NEG_GROUP0.sample(frac=1).drop('group', axis = 1).reset_index(drop=True)\n",
    "DATA_NORM_NEG_GROUP1 = DATA_NORM_NEG_GROUP1.sample(frac=1).drop('group', axis = 1).reset_index(drop=True)\n",
    "DATA_NORM_NEG_GROUP2 = DATA_NORM_NEG_GROUP2.sample(frac=1).drop('group', axis = 1).reset_index(drop=True)\n",
    "DATA_NORM_NEG_GROUP3 = DATA_NORM_NEG_GROUP3.sample(frac=1).drop('group', axis = 1).reset_index(drop=True)"
   ]
  },
  {
   "cell_type": "markdown",
   "metadata": {},
   "source": [
    "## **RNA**"
   ]
  },
  {
   "cell_type": "code",
   "execution_count": 214,
   "metadata": {},
   "outputs": [
    {
     "data": {
      "text/plain": [
       "array([[0.57215889, 0.42784111]])"
      ]
     },
     "execution_count": 214,
     "metadata": {},
     "output_type": "execute_result"
    }
   ],
   "source": [
    "CLASSE_NEG = pd.concat([DATA_NORM_NEG_GROUP0.iloc[0:30,:], DATA_NORM_NEG_GROUP1.iloc[0:30,:],\n",
    "    DATA_NORM_NEG_GROUP2.iloc[0:30,:],DATA_NORM_NEG_GROUP3.iloc[0:30,:]], ignore_index = True)\n",
    "\n",
    "DATA_NORM_POS = DATA_NORM_POS.sample(frac=1).reset_index(drop=True)\n",
    "CLASSE_POS = pd.concat([DATA_NORM_POS.iloc[0:60,:],DATA_NORM_POS.iloc[0:60,:]], ignore_index = True)\n",
    "\n",
    "CONJ_TRAIN = pd.concat([CLASSE_NEG,CLASSE_POS]).sample(frac=1).reset_index(drop=True)\n",
    "\n",
    "\n",
    "X_TRAIN = CONJ_TRAIN.drop('resul_prop', axis = 1)\n",
    "Y_TRAIN = CONJ_TRAIN['resul_prop']\n",
    "\n",
    "rna = MLPClassifier(random_state=1, max_iter=10000, hidden_layer_sizes = (30)).fit(X_TRAIN, Y_TRAIN)\n",
    "\n",
    "\n",
    "\n"
   ]
  },
  {
   "cell_type": "code",
   "execution_count": 234,
   "metadata": {},
   "outputs": [
    {
     "name": "stdout",
     "output_type": "stream",
     "text": [
      "[[0.57215889 0.42784111]]\n"
     ]
    },
    {
     "data": {
      "text/plain": [
       "array([0], dtype=int64)"
      ]
     },
     "execution_count": 234,
     "metadata": {},
     "output_type": "execute_result"
    }
   ],
   "source": [
    "print(rna.predict_proba(DATA_NORM_POS.iloc[[63]].drop('resul_prop', axis = 1)))\n",
    "\n",
    "rna.predict(DATA_NORM_POS.iloc[[62]].drop('resul_prop', axis = 1))"
   ]
  },
  {
   "cell_type": "code",
   "execution_count": 208,
   "metadata": {},
   "outputs": [
    {
     "data": {
      "text/html": [
       "<div>\n",
       "<style scoped>\n",
       "    .dataframe tbody tr th:only-of-type {\n",
       "        vertical-align: middle;\n",
       "    }\n",
       "\n",
       "    .dataframe tbody tr th {\n",
       "        vertical-align: top;\n",
       "    }\n",
       "\n",
       "    .dataframe thead th {\n",
       "        text-align: right;\n",
       "    }\n",
       "</style>\n",
       "<table border=\"1\" class=\"dataframe\">\n",
       "  <thead>\n",
       "    <tr style=\"text-align: right;\">\n",
       "      <th></th>\n",
       "      <th>regiao</th>\n",
       "      <th>exploracao</th>\n",
       "      <th>criacao</th>\n",
       "      <th>n_ordenha</th>\n",
       "      <th>t_ordenha</th>\n",
       "      <th>inseminacao_2cat</th>\n",
       "      <th>raca_bovinos</th>\n",
       "      <th>total_animais_prop</th>\n",
       "      <th>ov_capr</th>\n",
       "      <th>eq</th>\n",
       "      <th>...</th>\n",
       "      <th>resfr_leite</th>\n",
       "      <th>como_resfr</th>\n",
       "      <th>leite_granel</th>\n",
       "      <th>queijo_mant</th>\n",
       "      <th>final_queijo_mant</th>\n",
       "      <th>consome_leite_cru</th>\n",
       "      <th>assist_vet</th>\n",
       "      <th>tipo_assist</th>\n",
       "      <th>aguadas_bebedouro</th>\n",
       "      <th>classificacao_propriedade</th>\n",
       "    </tr>\n",
       "  </thead>\n",
       "  <tbody>\n",
       "    <tr>\n",
       "      <th>31</th>\n",
       "      <td>0.666667</td>\n",
       "      <td>0.5</td>\n",
       "      <td>1.0</td>\n",
       "      <td>0.666667</td>\n",
       "      <td>0.5</td>\n",
       "      <td>0.5</td>\n",
       "      <td>1.0</td>\n",
       "      <td>0.002203</td>\n",
       "      <td>0.0</td>\n",
       "      <td>0.0</td>\n",
       "      <td>...</td>\n",
       "      <td>0.5</td>\n",
       "      <td>0.0</td>\n",
       "      <td>0.5</td>\n",
       "      <td>1.0</td>\n",
       "      <td>0.666667</td>\n",
       "      <td>1.0</td>\n",
       "      <td>0.5</td>\n",
       "      <td>0.0</td>\n",
       "      <td>0.5</td>\n",
       "      <td>0.0</td>\n",
       "    </tr>\n",
       "  </tbody>\n",
       "</table>\n",
       "<p>1 rows × 49 columns</p>\n",
       "</div>"
      ],
      "text/plain": [
       "      regiao  exploracao  criacao  n_ordenha  t_ordenha  inseminacao_2cat  \\\n",
       "31  0.666667         0.5      1.0   0.666667        0.5               0.5   \n",
       "\n",
       "    raca_bovinos  total_animais_prop  ov_capr   eq  ...  resfr_leite  \\\n",
       "31           1.0            0.002203      0.0  0.0  ...          0.5   \n",
       "\n",
       "    como_resfr  leite_granel  queijo_mant  final_queijo_mant  \\\n",
       "31         0.0           0.5          1.0           0.666667   \n",
       "\n",
       "    consome_leite_cru  assist_vet  tipo_assist  aguadas_bebedouro  \\\n",
       "31                1.0         0.5          0.0                0.5   \n",
       "\n",
       "    classificacao_propriedade  \n",
       "31                        0.0  \n",
       "\n",
       "[1 rows x 49 columns]"
      ]
     },
     "execution_count": 208,
     "metadata": {},
     "output_type": "execute_result"
    }
   ],
   "source": [
    "DATA_NORM_POS.iloc[[31]].drop('resul_prop', axis = 1)"
   ]
  }
 ],
 "metadata": {
  "kernelspec": {
   "display_name": "Python 3",
   "language": "python",
   "name": "python3"
  },
  "language_info": {
   "codemirror_mode": {
    "name": "ipython",
    "version": 3
   },
   "file_extension": ".py",
   "mimetype": "text/x-python",
   "name": "python",
   "nbconvert_exporter": "python",
   "pygments_lexer": "ipython3",
   "version": "3.12.0"
  }
 },
 "nbformat": 4,
 "nbformat_minor": 2
}
