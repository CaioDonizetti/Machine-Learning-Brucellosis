{
 "cells": [
  {
   "cell_type": "markdown",
   "metadata": {},
   "source": [
    "## **IMPORTS**"
   ]
  },
  {
   "cell_type": "code",
   "execution_count": 1,
   "metadata": {},
   "outputs": [],
   "source": [
    "import pandas as pd\n",
    "import numpy as np\n",
    "import matplotlib.pyplot as plt\n",
    "import seaborn as sns\n",
    "\n",
    "# Biblioteca para fazer a NORMALIZAÇÃO\n",
    "from sklearn.preprocessing import MinMaxScaler\n",
    "\n",
    "# Biblioteca para calcular a acuracia do modelo\n",
    "from sklearn.metrics import accuracy_score\n",
    "from sklearn.cluster import KMeans\n",
    "from sklearn.metrics import classification_report\n",
    "\n",
    "from imblearn.over_sampling import ADASYN\n",
    "from collections import Counter\n",
    "\n",
    "from scipy.stats import tukey_hsd\n",
    "from scipy import stats\n",
    "\n",
    "from sklearn.svm import OneClassSVM"
   ]
  },
  {
   "cell_type": "markdown",
   "metadata": {},
   "source": [
    "## **LEITURA DOS DADOS**"
   ]
  },
  {
   "cell_type": "code",
   "execution_count": 8,
   "metadata": {},
   "outputs": [
    {
     "name": "stdout",
     "output_type": "stream",
     "text": [
      "(2185, 11)\n"
     ]
    },
    {
     "data": {
      "text/html": [
       "<div>\n",
       "<style scoped>\n",
       "    .dataframe tbody tr th:only-of-type {\n",
       "        vertical-align: middle;\n",
       "    }\n",
       "\n",
       "    .dataframe tbody tr th {\n",
       "        vertical-align: top;\n",
       "    }\n",
       "\n",
       "    .dataframe thead th {\n",
       "        text-align: right;\n",
       "    }\n",
       "</style>\n",
       "<table border=\"1\" class=\"dataframe\">\n",
       "  <thead>\n",
       "    <tr style=\"text-align: right;\">\n",
       "      <th></th>\n",
       "      <th>inseminacao_2cat</th>\n",
       "      <th>total_animais_prop</th>\n",
       "      <th>teste_bruc</th>\n",
       "      <th>compra_repr</th>\n",
       "      <th>venda_repr</th>\n",
       "      <th>dest_leilao</th>\n",
       "      <th>vacina_semqqidade</th>\n",
       "      <th>piquete_parto</th>\n",
       "      <th>assist_vet</th>\n",
       "      <th>tipo_assist</th>\n",
       "      <th>resul_prop</th>\n",
       "    </tr>\n",
       "  </thead>\n",
       "  <tbody>\n",
       "    <tr>\n",
       "      <th>0</th>\n",
       "      <td>0</td>\n",
       "      <td>15</td>\n",
       "      <td>0</td>\n",
       "      <td>0</td>\n",
       "      <td>0</td>\n",
       "      <td>0</td>\n",
       "      <td>0</td>\n",
       "      <td>0</td>\n",
       "      <td>0</td>\n",
       "      <td>-1</td>\n",
       "      <td>0</td>\n",
       "    </tr>\n",
       "    <tr>\n",
       "      <th>1</th>\n",
       "      <td>0</td>\n",
       "      <td>142</td>\n",
       "      <td>0</td>\n",
       "      <td>1</td>\n",
       "      <td>1</td>\n",
       "      <td>0</td>\n",
       "      <td>1</td>\n",
       "      <td>1</td>\n",
       "      <td>0</td>\n",
       "      <td>-1</td>\n",
       "      <td>0</td>\n",
       "    </tr>\n",
       "    <tr>\n",
       "      <th>2</th>\n",
       "      <td>0</td>\n",
       "      <td>40</td>\n",
       "      <td>0</td>\n",
       "      <td>1</td>\n",
       "      <td>1</td>\n",
       "      <td>0</td>\n",
       "      <td>-1</td>\n",
       "      <td>1</td>\n",
       "      <td>0</td>\n",
       "      <td>-1</td>\n",
       "      <td>0</td>\n",
       "    </tr>\n",
       "    <tr>\n",
       "      <th>3</th>\n",
       "      <td>0</td>\n",
       "      <td>68</td>\n",
       "      <td>0</td>\n",
       "      <td>1</td>\n",
       "      <td>0</td>\n",
       "      <td>0</td>\n",
       "      <td>1</td>\n",
       "      <td>0</td>\n",
       "      <td>0</td>\n",
       "      <td>-1</td>\n",
       "      <td>0</td>\n",
       "    </tr>\n",
       "    <tr>\n",
       "      <th>4</th>\n",
       "      <td>0</td>\n",
       "      <td>38</td>\n",
       "      <td>0</td>\n",
       "      <td>0</td>\n",
       "      <td>0</td>\n",
       "      <td>0</td>\n",
       "      <td>0</td>\n",
       "      <td>0</td>\n",
       "      <td>0</td>\n",
       "      <td>-1</td>\n",
       "      <td>0</td>\n",
       "    </tr>\n",
       "  </tbody>\n",
       "</table>\n",
       "</div>"
      ],
      "text/plain": [
       "   inseminacao_2cat  total_animais_prop  teste_bruc  compra_repr  venda_repr  \\\n",
       "0                 0                  15           0            0           0   \n",
       "1                 0                 142           0            1           1   \n",
       "2                 0                  40           0            1           1   \n",
       "3                 0                  68           0            1           0   \n",
       "4                 0                  38           0            0           0   \n",
       "\n",
       "   dest_leilao  vacina_semqqidade  piquete_parto  assist_vet  tipo_assist  \\\n",
       "0            0                  0              0           0           -1   \n",
       "1            0                  1              1           0           -1   \n",
       "2            0                 -1              1           0           -1   \n",
       "3            0                  1              0           0           -1   \n",
       "4            0                  0              0           0           -1   \n",
       "\n",
       "   resul_prop  \n",
       "0           0  \n",
       "1           0  \n",
       "2           0  \n",
       "3           0  \n",
       "4           0  "
      ]
     },
     "execution_count": 8,
     "metadata": {},
     "output_type": "execute_result"
    }
   ],
   "source": [
    "#data = pd.read_csv('../Base de Dados/Dados_49_V.csv', na_values='?')\n",
    "\n",
    "data = pd.read_csv('../Base de Dados/Dados_10_V_FISHER.csv', na_values='?')\n",
    "\n",
    "print(data.shape)\n",
    "data.head()"
   ]
  },
  {
   "cell_type": "code",
   "execution_count": 9,
   "metadata": {},
   "outputs": [],
   "source": [
    "# Gerando um DataFrame das variáveis preditoras originais SEM a variável TARGET\n",
    "VAR_PREDITORAS_ORIG = data.drop('resul_prop', axis = 1)\n",
    "\n",
    "# Gerando um DataFrame somente da variavel TARGET\n",
    "VAR_TARGET = data['resul_prop']"
   ]
  },
  {
   "cell_type": "markdown",
   "metadata": {},
   "source": [
    "## **NORMALIZAÇÃO**"
   ]
  },
  {
   "cell_type": "code",
   "execution_count": 10,
   "metadata": {},
   "outputs": [
    {
     "data": {
      "image/png": "[encoded data removed]",
      "text/plain": [
       "<Figure size 2000x600 with 1 Axes>"
      ]
     },
     "metadata": {},
     "output_type": "display_data"
    }
   ],
   "source": [
    "# Criando um objeto para NORMALIZAR os dados\n",
    "obj_normalizacao = MinMaxScaler().fit(VAR_PREDITORAS_ORIG)\n",
    "\n",
    "# Aplicando a NORMALIZAÇÃO\n",
    "VAR_PREDITORAS_NORM = obj_normalizacao.transform(VAR_PREDITORAS_ORIG)\n",
    "\n",
    "# Transformando para DataFrame e nomeando as colunas\n",
    "VAR_PREDITORAS_NORM = pd.DataFrame(VAR_PREDITORAS_NORM)\n",
    "\n",
    "VAR_PREDITORAS_NORM.columns = data.drop('resul_prop', axis = 1).columns\n",
    "\n",
    "VAR_PREDITORAS_NORM\n",
    "\n",
    "plt.figure(figsize=(20,6))\n",
    "ax = sns.boxplot(data=VAR_PREDITORAS_NORM)\n",
    "\n",
    "DATA_NORM = VAR_PREDITORAS_NORM.assign(resul_prop=VAR_TARGET)\n",
    "DATA_NORM_NEG = VAR_PREDITORAS_NORM.assign(resul_prop=VAR_TARGET).query('resul_prop == 0').reset_index(drop=True)\n",
    "DATA_NORM_POS = VAR_PREDITORAS_NORM.assign(resul_prop=VAR_TARGET).query('resul_prop == 1').reset_index(drop=True)"
   ]
  },
  {
   "cell_type": "markdown",
   "metadata": {},
   "source": [
    "## **SVM + Replicação**"
   ]
  },
  {
   "cell_type": "code",
   "execution_count": 11,
   "metadata": {},
   "outputs": [
    {
     "name": "stdout",
     "output_type": "stream",
     "text": [
      "FIM\n"
     ]
    }
   ],
   "source": [
    "accuracy_rep = []\n",
    "\n",
    "neg_prec_rep = []\n",
    "neg_recall_rep = []\n",
    "neg_fscore_rep = []\n",
    "\n",
    "pos_prec_rep = []\n",
    "pos_recall_rep = []\n",
    "pos_fscore_rep = []\n",
    "\n",
    "#auc_rep = []\n",
    "\n",
    "num_am_grupo_pos = 60\n",
    "\n",
    "for i in range (0,100):\n",
    "    DATA_NORM_POS = DATA_NORM_POS.sample(frac=1).reset_index(drop=True)\n",
    "    CLASSE_POS = pd.concat([DATA_NORM_POS.head(num_am_grupo_pos),DATA_NORM_POS.head(num_am_grupo_pos)], ignore_index = True)\n",
    "\n",
    "    #-------------------------- TREINANDO SVM -------------------------------\n",
    "    svm = OneClassSVM(gamma='auto', nu=0.45).fit(CLASSE_POS.drop('resul_prop', axis = 1).to_numpy())\n",
    "\n",
    "    #-------------------------- TESTE SVM -------------------------------\n",
    "    TEST_NEG = DATA_NORM_NEG\n",
    "\n",
    "    TEST_POS = DATA_NORM_POS.tail(len(DATA_NORM_POS)-num_am_grupo_pos)\n",
    "\n",
    "    X_TEST = pd.concat([TEST_NEG,TEST_POS], ignore_index = True).drop('resul_prop', axis = 1)\n",
    "    Y_TEST = pd.concat([TEST_NEG,TEST_POS], ignore_index = True)['resul_prop'].replace([0],-1)\n",
    "\n",
    "    valores_preditos = svm.predict(X_TEST.to_numpy())\n",
    "\n",
    "    #-------------------------- MÉTRICAS DE DESEMPENHO -------------------------------\n",
    "    class_names = ['Negativo', 'Positivo']\n",
    "   \n",
    "    report = pd.DataFrame.from_dict(classification_report(Y_TEST, valores_preditos, target_names=class_names, output_dict=True))\n",
    "\n",
    "    accuracy_rep.append(accuracy_score(Y_TEST, valores_preditos))\n",
    "\n",
    "    neg_prec_rep.append(report['Negativo']['precision'])\n",
    "    neg_recall_rep.append(report['Negativo']['recall'])\n",
    "    neg_fscore_rep.append(report['Negativo']['f1-score'])\n",
    "\n",
    "    pos_prec_rep.append(report['Positivo']['precision'])\n",
    "    pos_recall_rep.append(report['Positivo']['recall'])\n",
    "    pos_fscore_rep.append(report['Positivo']['f1-score'])\n",
    "\n",
    "    #auc_rep.append(roc_auc_score(Y_TEST, knn.predict_proba(X_TEST)[:, 1]))\n",
    "\n",
    "    #RocCurveDisplay.from_estimator(rna, X_TEST, Y_TEST)\n",
    "    #plt.show()\n",
    "\n",
    "SVM_rep = pd.DataFrame().assign(SVM_accuracy_rep=accuracy_rep,\n",
    "                              SVM_neg_prec_rep=neg_prec_rep,\n",
    "                              SVM_neg_recall_rep=neg_recall_rep,\n",
    "                              SVM_neg_fscore_rep=neg_fscore_rep,\n",
    "                              SVM_pos_prec_rep=pos_prec_rep,\n",
    "                              SVM_pos_recall_rep=pos_recall_rep,\n",
    "                              SVM_pos_fscore_rep = pos_fscore_rep)\n",
    "\n",
    "SVM_rep.to_csv(\"../Resultados/SVM_\"+str(data.shape[1]-1)+\"V_rep.csv\", encoding = 'utf-8', index = False)\n",
    "\n",
    "print(\"FIM\")\n"
   ]
  },
  {
   "cell_type": "markdown",
   "metadata": {},
   "source": [
    "## **SVM + ADASYN**"
   ]
  },
  {
   "cell_type": "code",
   "execution_count": 12,
   "metadata": {},
   "outputs": [
    {
     "name": "stderr",
     "output_type": "stream",
     "text": [
      "c:\\Users\\caiod\\AppData\\Local\\Programs\\Python\\Python312\\Lib\\site-packages\\sklearn\\base.py:458: UserWarning: X has feature names, but OneClassSVM was fitted without feature names\n",
      "  warnings.warn(\n",
      "c:\\Users\\caiod\\AppData\\Local\\Programs\\Python\\Python312\\Lib\\site-packages\\sklearn\\base.py:458: UserWarning: X has feature names, but OneClassSVM was fitted without feature names\n",
      "  warnings.warn(\n",
      "c:\\Users\\caiod\\AppData\\Local\\Programs\\Python\\Python312\\Lib\\site-packages\\sklearn\\base.py:458: UserWarning: X has feature names, but OneClassSVM was fitted without feature names\n",
      "  warnings.warn(\n",
      "c:\\Users\\caiod\\AppData\\Local\\Programs\\Python\\Python312\\Lib\\site-packages\\sklearn\\base.py:458: UserWarning: X has feature names, but OneClassSVM was fitted without feature names\n",
      "  warnings.warn(\n",
      "c:\\Users\\caiod\\AppData\\Local\\Programs\\Python\\Python312\\Lib\\site-packages\\sklearn\\base.py:458: UserWarning: X has feature names, but OneClassSVM was fitted without feature names\n",
      "  warnings.warn(\n",
      "c:\\Users\\caiod\\AppData\\Local\\Programs\\Python\\Python312\\Lib\\site-packages\\sklearn\\base.py:458: UserWarning: X has feature names, but OneClassSVM was fitted without feature names\n",
      "  warnings.warn(\n",
      "c:\\Users\\caiod\\AppData\\Local\\Programs\\Python\\Python312\\Lib\\site-packages\\sklearn\\base.py:458: UserWarning: X has feature names, but OneClassSVM was fitted without feature names\n",
      "  warnings.warn(\n",
      "c:\\Users\\caiod\\AppData\\Local\\Programs\\Python\\Python312\\Lib\\site-packages\\sklearn\\base.py:458: UserWarning: X has feature names, but OneClassSVM was fitted without feature names\n",
      "  warnings.warn(\n",
      "c:\\Users\\caiod\\AppData\\Local\\Programs\\Python\\Python312\\Lib\\site-packages\\sklearn\\base.py:458: UserWarning: X has feature names, but OneClassSVM was fitted without feature names\n",
      "  warnings.warn(\n",
      "c:\\Users\\caiod\\AppData\\Local\\Programs\\Python\\Python312\\Lib\\site-packages\\sklearn\\base.py:458: UserWarning: X has feature names, but OneClassSVM was fitted without feature names\n",
      "  warnings.warn(\n",
      "c:\\Users\\caiod\\AppData\\Local\\Programs\\Python\\Python312\\Lib\\site-packages\\sklearn\\base.py:458: UserWarning: X has feature names, but OneClassSVM was fitted without feature names\n",
      "  warnings.warn(\n",
      "c:\\Users\\caiod\\AppData\\Local\\Programs\\Python\\Python312\\Lib\\site-packages\\sklearn\\base.py:458: UserWarning: X has feature names, but OneClassSVM was fitted without feature names\n",
      "  warnings.warn(\n",
      "c:\\Users\\caiod\\AppData\\Local\\Programs\\Python\\Python312\\Lib\\site-packages\\sklearn\\base.py:458: UserWarning: X has feature names, but OneClassSVM was fitted without feature names\n",
      "  warnings.warn(\n",
      "c:\\Users\\caiod\\AppData\\Local\\Programs\\Python\\Python312\\Lib\\site-packages\\sklearn\\base.py:458: UserWarning: X has feature names, but OneClassSVM was fitted without feature names\n",
      "  warnings.warn(\n",
      "c:\\Users\\caiod\\AppData\\Local\\Programs\\Python\\Python312\\Lib\\site-packages\\sklearn\\base.py:458: UserWarning: X has feature names, but OneClassSVM was fitted without feature names\n",
      "  warnings.warn(\n",
      "c:\\Users\\caiod\\AppData\\Local\\Programs\\Python\\Python312\\Lib\\site-packages\\sklearn\\base.py:458: UserWarning: X has feature names, but OneClassSVM was fitted without feature names\n",
      "  warnings.warn(\n",
      "c:\\Users\\caiod\\AppData\\Local\\Programs\\Python\\Python312\\Lib\\site-packages\\sklearn\\base.py:458: UserWarning: X has feature names, but OneClassSVM was fitted without feature names\n",
      "  warnings.warn(\n",
      "c:\\Users\\caiod\\AppData\\Local\\Programs\\Python\\Python312\\Lib\\site-packages\\sklearn\\base.py:458: UserWarning: X has feature names, but OneClassSVM was fitted without feature names\n",
      "  warnings.warn(\n",
      "c:\\Users\\caiod\\AppData\\Local\\Programs\\Python\\Python312\\Lib\\site-packages\\sklearn\\base.py:458: UserWarning: X has feature names, but OneClassSVM was fitted without feature names\n",
      "  warnings.warn(\n",
      "c:\\Users\\caiod\\AppData\\Local\\Programs\\Python\\Python312\\Lib\\site-packages\\sklearn\\base.py:458: UserWarning: X has feature names, but OneClassSVM was fitted without feature names\n",
      "  warnings.warn(\n",
      "c:\\Users\\caiod\\AppData\\Local\\Programs\\Python\\Python312\\Lib\\site-packages\\sklearn\\base.py:458: UserWarning: X has feature names, but OneClassSVM was fitted without feature names\n",
      "  warnings.warn(\n",
      "c:\\Users\\caiod\\AppData\\Local\\Programs\\Python\\Python312\\Lib\\site-packages\\sklearn\\base.py:458: UserWarning: X has feature names, but OneClassSVM was fitted without feature names\n",
      "  warnings.warn(\n",
      "c:\\Users\\caiod\\AppData\\Local\\Programs\\Python\\Python312\\Lib\\site-packages\\sklearn\\base.py:458: UserWarning: X has feature names, but OneClassSVM was fitted without feature names\n",
      "  warnings.warn(\n",
      "c:\\Users\\caiod\\AppData\\Local\\Programs\\Python\\Python312\\Lib\\site-packages\\sklearn\\base.py:458: UserWarning: X has feature names, but OneClassSVM was fitted without feature names\n",
      "  warnings.warn(\n",
      "c:\\Users\\caiod\\AppData\\Local\\Programs\\Python\\Python312\\Lib\\site-packages\\sklearn\\base.py:458: UserWarning: X has feature names, but OneClassSVM was fitted without feature names\n",
      "  warnings.warn(\n",
      "c:\\Users\\caiod\\AppData\\Local\\Programs\\Python\\Python312\\Lib\\site-packages\\sklearn\\base.py:458: UserWarning: X has feature names, but OneClassSVM was fitted without feature names\n",
      "  warnings.warn(\n",
      "c:\\Users\\caiod\\AppData\\Local\\Programs\\Python\\Python312\\Lib\\site-packages\\sklearn\\base.py:458: UserWarning: X has feature names, but OneClassSVM was fitted without feature names\n",
      "  warnings.warn(\n",
      "c:\\Users\\caiod\\AppData\\Local\\Programs\\Python\\Python312\\Lib\\site-packages\\sklearn\\base.py:458: UserWarning: X has feature names, but OneClassSVM was fitted without feature names\n",
      "  warnings.warn(\n",
      "c:\\Users\\caiod\\AppData\\Local\\Programs\\Python\\Python312\\Lib\\site-packages\\sklearn\\base.py:458: UserWarning: X has feature names, but OneClassSVM was fitted without feature names\n",
      "  warnings.warn(\n",
      "c:\\Users\\caiod\\AppData\\Local\\Programs\\Python\\Python312\\Lib\\site-packages\\sklearn\\base.py:458: UserWarning: X has feature names, but OneClassSVM was fitted without feature names\n",
      "  warnings.warn(\n",
      "c:\\Users\\caiod\\AppData\\Local\\Programs\\Python\\Python312\\Lib\\site-packages\\sklearn\\base.py:458: UserWarning: X has feature names, but OneClassSVM was fitted without feature names\n",
      "  warnings.warn(\n",
      "c:\\Users\\caiod\\AppData\\Local\\Programs\\Python\\Python312\\Lib\\site-packages\\sklearn\\base.py:458: UserWarning: X has feature names, but OneClassSVM was fitted without feature names\n",
      "  warnings.warn(\n",
      "c:\\Users\\caiod\\AppData\\Local\\Programs\\Python\\Python312\\Lib\\site-packages\\sklearn\\base.py:458: UserWarning: X has feature names, but OneClassSVM was fitted without feature names\n",
      "  warnings.warn(\n",
      "c:\\Users\\caiod\\AppData\\Local\\Programs\\Python\\Python312\\Lib\\site-packages\\sklearn\\base.py:458: UserWarning: X has feature names, but OneClassSVM was fitted without feature names\n",
      "  warnings.warn(\n",
      "c:\\Users\\caiod\\AppData\\Local\\Programs\\Python\\Python312\\Lib\\site-packages\\sklearn\\base.py:458: UserWarning: X has feature names, but OneClassSVM was fitted without feature names\n",
      "  warnings.warn(\n",
      "c:\\Users\\caiod\\AppData\\Local\\Programs\\Python\\Python312\\Lib\\site-packages\\sklearn\\base.py:458: UserWarning: X has feature names, but OneClassSVM was fitted without feature names\n",
      "  warnings.warn(\n",
      "c:\\Users\\caiod\\AppData\\Local\\Programs\\Python\\Python312\\Lib\\site-packages\\sklearn\\base.py:458: UserWarning: X has feature names, but OneClassSVM was fitted without feature names\n",
      "  warnings.warn(\n",
      "c:\\Users\\caiod\\AppData\\Local\\Programs\\Python\\Python312\\Lib\\site-packages\\sklearn\\base.py:458: UserWarning: X has feature names, but OneClassSVM was fitted without feature names\n",
      "  warnings.warn(\n",
      "c:\\Users\\caiod\\AppData\\Local\\Programs\\Python\\Python312\\Lib\\site-packages\\sklearn\\base.py:458: UserWarning: X has feature names, but OneClassSVM was fitted without feature names\n",
      "  warnings.warn(\n",
      "c:\\Users\\caiod\\AppData\\Local\\Programs\\Python\\Python312\\Lib\\site-packages\\sklearn\\base.py:458: UserWarning: X has feature names, but OneClassSVM was fitted without feature names\n",
      "  warnings.warn(\n",
      "c:\\Users\\caiod\\AppData\\Local\\Programs\\Python\\Python312\\Lib\\site-packages\\sklearn\\base.py:458: UserWarning: X has feature names, but OneClassSVM was fitted without feature names\n",
      "  warnings.warn(\n",
      "c:\\Users\\caiod\\AppData\\Local\\Programs\\Python\\Python312\\Lib\\site-packages\\sklearn\\base.py:458: UserWarning: X has feature names, but OneClassSVM was fitted without feature names\n",
      "  warnings.warn(\n",
      "c:\\Users\\caiod\\AppData\\Local\\Programs\\Python\\Python312\\Lib\\site-packages\\sklearn\\base.py:458: UserWarning: X has feature names, but OneClassSVM was fitted without feature names\n",
      "  warnings.warn(\n",
      "c:\\Users\\caiod\\AppData\\Local\\Programs\\Python\\Python312\\Lib\\site-packages\\sklearn\\base.py:458: UserWarning: X has feature names, but OneClassSVM was fitted without feature names\n",
      "  warnings.warn(\n",
      "c:\\Users\\caiod\\AppData\\Local\\Programs\\Python\\Python312\\Lib\\site-packages\\sklearn\\base.py:458: UserWarning: X has feature names, but OneClassSVM was fitted without feature names\n",
      "  warnings.warn(\n",
      "c:\\Users\\caiod\\AppData\\Local\\Programs\\Python\\Python312\\Lib\\site-packages\\sklearn\\base.py:458: UserWarning: X has feature names, but OneClassSVM was fitted without feature names\n",
      "  warnings.warn(\n",
      "c:\\Users\\caiod\\AppData\\Local\\Programs\\Python\\Python312\\Lib\\site-packages\\sklearn\\base.py:458: UserWarning: X has feature names, but OneClassSVM was fitted without feature names\n",
      "  warnings.warn(\n",
      "c:\\Users\\caiod\\AppData\\Local\\Programs\\Python\\Python312\\Lib\\site-packages\\sklearn\\base.py:458: UserWarning: X has feature names, but OneClassSVM was fitted without feature names\n",
      "  warnings.warn(\n",
      "c:\\Users\\caiod\\AppData\\Local\\Programs\\Python\\Python312\\Lib\\site-packages\\sklearn\\base.py:458: UserWarning: X has feature names, but OneClassSVM was fitted without feature names\n",
      "  warnings.warn(\n",
      "c:\\Users\\caiod\\AppData\\Local\\Programs\\Python\\Python312\\Lib\\site-packages\\sklearn\\base.py:458: UserWarning: X has feature names, but OneClassSVM was fitted without feature names\n",
      "  warnings.warn(\n",
      "c:\\Users\\caiod\\AppData\\Local\\Programs\\Python\\Python312\\Lib\\site-packages\\sklearn\\base.py:458: UserWarning: X has feature names, but OneClassSVM was fitted without feature names\n",
      "  warnings.warn(\n",
      "c:\\Users\\caiod\\AppData\\Local\\Programs\\Python\\Python312\\Lib\\site-packages\\sklearn\\base.py:458: UserWarning: X has feature names, but OneClassSVM was fitted without feature names\n",
      "  warnings.warn(\n",
      "c:\\Users\\caiod\\AppData\\Local\\Programs\\Python\\Python312\\Lib\\site-packages\\sklearn\\base.py:458: UserWarning: X has feature names, but OneClassSVM was fitted without feature names\n",
      "  warnings.warn(\n",
      "c:\\Users\\caiod\\AppData\\Local\\Programs\\Python\\Python312\\Lib\\site-packages\\sklearn\\base.py:458: UserWarning: X has feature names, but OneClassSVM was fitted without feature names\n",
      "  warnings.warn(\n",
      "c:\\Users\\caiod\\AppData\\Local\\Programs\\Python\\Python312\\Lib\\site-packages\\sklearn\\base.py:458: UserWarning: X has feature names, but OneClassSVM was fitted without feature names\n",
      "  warnings.warn(\n",
      "c:\\Users\\caiod\\AppData\\Local\\Programs\\Python\\Python312\\Lib\\site-packages\\sklearn\\base.py:458: UserWarning: X has feature names, but OneClassSVM was fitted without feature names\n",
      "  warnings.warn(\n",
      "c:\\Users\\caiod\\AppData\\Local\\Programs\\Python\\Python312\\Lib\\site-packages\\sklearn\\base.py:458: UserWarning: X has feature names, but OneClassSVM was fitted without feature names\n",
      "  warnings.warn(\n",
      "c:\\Users\\caiod\\AppData\\Local\\Programs\\Python\\Python312\\Lib\\site-packages\\sklearn\\base.py:458: UserWarning: X has feature names, but OneClassSVM was fitted without feature names\n",
      "  warnings.warn(\n",
      "c:\\Users\\caiod\\AppData\\Local\\Programs\\Python\\Python312\\Lib\\site-packages\\sklearn\\base.py:458: UserWarning: X has feature names, but OneClassSVM was fitted without feature names\n",
      "  warnings.warn(\n",
      "c:\\Users\\caiod\\AppData\\Local\\Programs\\Python\\Python312\\Lib\\site-packages\\sklearn\\base.py:458: UserWarning: X has feature names, but OneClassSVM was fitted without feature names\n",
      "  warnings.warn(\n",
      "c:\\Users\\caiod\\AppData\\Local\\Programs\\Python\\Python312\\Lib\\site-packages\\sklearn\\base.py:458: UserWarning: X has feature names, but OneClassSVM was fitted without feature names\n",
      "  warnings.warn(\n",
      "c:\\Users\\caiod\\AppData\\Local\\Programs\\Python\\Python312\\Lib\\site-packages\\sklearn\\base.py:458: UserWarning: X has feature names, but OneClassSVM was fitted without feature names\n",
      "  warnings.warn(\n",
      "c:\\Users\\caiod\\AppData\\Local\\Programs\\Python\\Python312\\Lib\\site-packages\\sklearn\\base.py:458: UserWarning: X has feature names, but OneClassSVM was fitted without feature names\n",
      "  warnings.warn(\n",
      "c:\\Users\\caiod\\AppData\\Local\\Programs\\Python\\Python312\\Lib\\site-packages\\sklearn\\base.py:458: UserWarning: X has feature names, but OneClassSVM was fitted without feature names\n",
      "  warnings.warn(\n",
      "c:\\Users\\caiod\\AppData\\Local\\Programs\\Python\\Python312\\Lib\\site-packages\\sklearn\\base.py:458: UserWarning: X has feature names, but OneClassSVM was fitted without feature names\n",
      "  warnings.warn(\n",
      "c:\\Users\\caiod\\AppData\\Local\\Programs\\Python\\Python312\\Lib\\site-packages\\sklearn\\base.py:458: UserWarning: X has feature names, but OneClassSVM was fitted without feature names\n",
      "  warnings.warn(\n",
      "c:\\Users\\caiod\\AppData\\Local\\Programs\\Python\\Python312\\Lib\\site-packages\\sklearn\\base.py:458: UserWarning: X has feature names, but OneClassSVM was fitted without feature names\n",
      "  warnings.warn(\n",
      "c:\\Users\\caiod\\AppData\\Local\\Programs\\Python\\Python312\\Lib\\site-packages\\sklearn\\base.py:458: UserWarning: X has feature names, but OneClassSVM was fitted without feature names\n",
      "  warnings.warn(\n",
      "c:\\Users\\caiod\\AppData\\Local\\Programs\\Python\\Python312\\Lib\\site-packages\\sklearn\\base.py:458: UserWarning: X has feature names, but OneClassSVM was fitted without feature names\n",
      "  warnings.warn(\n",
      "c:\\Users\\caiod\\AppData\\Local\\Programs\\Python\\Python312\\Lib\\site-packages\\sklearn\\base.py:458: UserWarning: X has feature names, but OneClassSVM was fitted without feature names\n",
      "  warnings.warn(\n",
      "c:\\Users\\caiod\\AppData\\Local\\Programs\\Python\\Python312\\Lib\\site-packages\\sklearn\\base.py:458: UserWarning: X has feature names, but OneClassSVM was fitted without feature names\n",
      "  warnings.warn(\n",
      "c:\\Users\\caiod\\AppData\\Local\\Programs\\Python\\Python312\\Lib\\site-packages\\sklearn\\base.py:458: UserWarning: X has feature names, but OneClassSVM was fitted without feature names\n",
      "  warnings.warn(\n",
      "c:\\Users\\caiod\\AppData\\Local\\Programs\\Python\\Python312\\Lib\\site-packages\\sklearn\\base.py:458: UserWarning: X has feature names, but OneClassSVM was fitted without feature names\n",
      "  warnings.warn(\n",
      "c:\\Users\\caiod\\AppData\\Local\\Programs\\Python\\Python312\\Lib\\site-packages\\sklearn\\base.py:458: UserWarning: X has feature names, but OneClassSVM was fitted without feature names\n",
      "  warnings.warn(\n",
      "c:\\Users\\caiod\\AppData\\Local\\Programs\\Python\\Python312\\Lib\\site-packages\\sklearn\\base.py:458: UserWarning: X has feature names, but OneClassSVM was fitted without feature names\n",
      "  warnings.warn(\n",
      "c:\\Users\\caiod\\AppData\\Local\\Programs\\Python\\Python312\\Lib\\site-packages\\sklearn\\base.py:458: UserWarning: X has feature names, but OneClassSVM was fitted without feature names\n",
      "  warnings.warn(\n",
      "c:\\Users\\caiod\\AppData\\Local\\Programs\\Python\\Python312\\Lib\\site-packages\\sklearn\\base.py:458: UserWarning: X has feature names, but OneClassSVM was fitted without feature names\n",
      "  warnings.warn(\n",
      "c:\\Users\\caiod\\AppData\\Local\\Programs\\Python\\Python312\\Lib\\site-packages\\sklearn\\base.py:458: UserWarning: X has feature names, but OneClassSVM was fitted without feature names\n",
      "  warnings.warn(\n",
      "c:\\Users\\caiod\\AppData\\Local\\Programs\\Python\\Python312\\Lib\\site-packages\\sklearn\\base.py:458: UserWarning: X has feature names, but OneClassSVM was fitted without feature names\n",
      "  warnings.warn(\n",
      "c:\\Users\\caiod\\AppData\\Local\\Programs\\Python\\Python312\\Lib\\site-packages\\sklearn\\base.py:458: UserWarning: X has feature names, but OneClassSVM was fitted without feature names\n",
      "  warnings.warn(\n",
      "c:\\Users\\caiod\\AppData\\Local\\Programs\\Python\\Python312\\Lib\\site-packages\\sklearn\\base.py:458: UserWarning: X has feature names, but OneClassSVM was fitted without feature names\n",
      "  warnings.warn(\n",
      "c:\\Users\\caiod\\AppData\\Local\\Programs\\Python\\Python312\\Lib\\site-packages\\sklearn\\base.py:458: UserWarning: X has feature names, but OneClassSVM was fitted without feature names\n",
      "  warnings.warn(\n",
      "c:\\Users\\caiod\\AppData\\Local\\Programs\\Python\\Python312\\Lib\\site-packages\\sklearn\\base.py:458: UserWarning: X has feature names, but OneClassSVM was fitted without feature names\n",
      "  warnings.warn(\n",
      "c:\\Users\\caiod\\AppData\\Local\\Programs\\Python\\Python312\\Lib\\site-packages\\sklearn\\base.py:458: UserWarning: X has feature names, but OneClassSVM was fitted without feature names\n",
      "  warnings.warn(\n",
      "c:\\Users\\caiod\\AppData\\Local\\Programs\\Python\\Python312\\Lib\\site-packages\\sklearn\\base.py:458: UserWarning: X has feature names, but OneClassSVM was fitted without feature names\n",
      "  warnings.warn(\n",
      "c:\\Users\\caiod\\AppData\\Local\\Programs\\Python\\Python312\\Lib\\site-packages\\sklearn\\base.py:458: UserWarning: X has feature names, but OneClassSVM was fitted without feature names\n",
      "  warnings.warn(\n",
      "c:\\Users\\caiod\\AppData\\Local\\Programs\\Python\\Python312\\Lib\\site-packages\\sklearn\\base.py:458: UserWarning: X has feature names, but OneClassSVM was fitted without feature names\n",
      "  warnings.warn(\n",
      "c:\\Users\\caiod\\AppData\\Local\\Programs\\Python\\Python312\\Lib\\site-packages\\sklearn\\base.py:458: UserWarning: X has feature names, but OneClassSVM was fitted without feature names\n",
      "  warnings.warn(\n",
      "c:\\Users\\caiod\\AppData\\Local\\Programs\\Python\\Python312\\Lib\\site-packages\\sklearn\\base.py:458: UserWarning: X has feature names, but OneClassSVM was fitted without feature names\n",
      "  warnings.warn(\n",
      "c:\\Users\\caiod\\AppData\\Local\\Programs\\Python\\Python312\\Lib\\site-packages\\sklearn\\base.py:458: UserWarning: X has feature names, but OneClassSVM was fitted without feature names\n",
      "  warnings.warn(\n",
      "c:\\Users\\caiod\\AppData\\Local\\Programs\\Python\\Python312\\Lib\\site-packages\\sklearn\\base.py:458: UserWarning: X has feature names, but OneClassSVM was fitted without feature names\n",
      "  warnings.warn(\n",
      "c:\\Users\\caiod\\AppData\\Local\\Programs\\Python\\Python312\\Lib\\site-packages\\sklearn\\base.py:458: UserWarning: X has feature names, but OneClassSVM was fitted without feature names\n",
      "  warnings.warn(\n",
      "c:\\Users\\caiod\\AppData\\Local\\Programs\\Python\\Python312\\Lib\\site-packages\\sklearn\\base.py:458: UserWarning: X has feature names, but OneClassSVM was fitted without feature names\n",
      "  warnings.warn(\n",
      "c:\\Users\\caiod\\AppData\\Local\\Programs\\Python\\Python312\\Lib\\site-packages\\sklearn\\base.py:458: UserWarning: X has feature names, but OneClassSVM was fitted without feature names\n",
      "  warnings.warn(\n",
      "c:\\Users\\caiod\\AppData\\Local\\Programs\\Python\\Python312\\Lib\\site-packages\\sklearn\\base.py:458: UserWarning: X has feature names, but OneClassSVM was fitted without feature names\n",
      "  warnings.warn(\n",
      "c:\\Users\\caiod\\AppData\\Local\\Programs\\Python\\Python312\\Lib\\site-packages\\sklearn\\base.py:458: UserWarning: X has feature names, but OneClassSVM was fitted without feature names\n",
      "  warnings.warn(\n",
      "c:\\Users\\caiod\\AppData\\Local\\Programs\\Python\\Python312\\Lib\\site-packages\\sklearn\\base.py:458: UserWarning: X has feature names, but OneClassSVM was fitted without feature names\n",
      "  warnings.warn(\n",
      "c:\\Users\\caiod\\AppData\\Local\\Programs\\Python\\Python312\\Lib\\site-packages\\sklearn\\base.py:458: UserWarning: X has feature names, but OneClassSVM was fitted without feature names\n",
      "  warnings.warn(\n",
      "c:\\Users\\caiod\\AppData\\Local\\Programs\\Python\\Python312\\Lib\\site-packages\\sklearn\\base.py:458: UserWarning: X has feature names, but OneClassSVM was fitted without feature names\n",
      "  warnings.warn(\n"
     ]
    },
    {
     "name": "stdout",
     "output_type": "stream",
     "text": [
      "FIM\n"
     ]
    },
    {
     "name": "stderr",
     "output_type": "stream",
     "text": [
      "c:\\Users\\caiod\\AppData\\Local\\Programs\\Python\\Python312\\Lib\\site-packages\\sklearn\\base.py:458: UserWarning: X has feature names, but OneClassSVM was fitted without feature names\n",
      "  warnings.warn(\n"
     ]
    }
   ],
   "source": [
    "accuracy_adasyn = []\n",
    "neg_prec_adasyn = []\n",
    "neg_recall_adasyn = []\n",
    "neg_fscore_adasyn = []\n",
    "pos_prec_adasyn = []\n",
    "pos_recall_adasyn = []\n",
    "pos_fscore_adasyn = []\n",
    "#auc_adasyn = []\n",
    "\n",
    "\n",
    "num_am_grupo_pos = 60\n",
    "\n",
    "for i in range (0,100):\n",
    "    #-------------------------- ADASYN -------------------------------\n",
    "    DATA_NORM_POS = DATA_NORM_POS.sample(frac=1).reset_index(drop=True)\n",
    "    CLASSE_POS_ADASYN = DATA_NORM_POS.head(num_am_grupo_pos)\n",
    "\n",
    "    CLASSE_NEG_ADASYN = DATA_NORM_NEG\n",
    "\n",
    "    X_ADASYN_ORIGINAL = pd.concat([CLASSE_NEG_ADASYN.drop('resul_prop', axis = 1),\n",
    "        CLASSE_POS_ADASYN.drop('resul_prop', axis = 1)]).reset_index(drop=True)\n",
    "\n",
    "    Y_ADASYN_ORIGINAL = pd.concat([CLASSE_NEG_ADASYN['resul_prop'],\n",
    "        CLASSE_POS_ADASYN['resul_prop']]).reset_index(drop=True)\n",
    "\n",
    "    ada = ADASYN(sampling_strategy=0.12, n_neighbors=6)\n",
    "\n",
    "    X_RESAMPLING, Y_RESAMPLING = ada.fit_resample(X_ADASYN_ORIGINAL, Y_ADASYN_ORIGINAL)\n",
    "\n",
    "    #-------------------------- TREINANDO SVM -------------------------------\n",
    "    CLASSE_POS = X_RESAMPLING.assign(resul_prop=Y_RESAMPLING).query('resul_prop == 1').reset_index(drop=True)\n",
    "    \n",
    "    svm = OneClassSVM(gamma='auto', nu=0.45).fit(CLASSE_POS.drop('resul_prop', axis = 1).to_numpy())\n",
    "    \n",
    "    #-------------------------- TESTE SVM -------------------------------\n",
    "    TEST_NEG = DATA_NORM_NEG\n",
    "    \n",
    "    TEST_POS = DATA_NORM_POS.tail(len(DATA_NORM_POS)-num_am_grupo_pos)\n",
    "\n",
    "    X_TEST = pd.concat([TEST_NEG,TEST_POS], ignore_index = True).drop('resul_prop', axis = 1)\n",
    "    Y_TEST = pd.concat([TEST_NEG,TEST_POS], ignore_index = True)['resul_prop'].replace([0],-1)\n",
    "\n",
    "    valores_preditos = svm.predict(X_TEST)\n",
    "\n",
    "    #-------------------------- MÉTRICAS DE DESEMPENHO -------------------------------\n",
    "    class_names = ['Negativo', 'Positivo']\n",
    "\n",
    "    report = pd.DataFrame.from_dict(classification_report(Y_TEST, valores_preditos, target_names=class_names, output_dict=True))\n",
    "\n",
    "    #ConfusionMatrixDisplay.from_estimator(rna, X_TEST, Y_TEST)\n",
    "    #plt.show(3,5)\n",
    "\n",
    "    accuracy_adasyn.append(accuracy_score(Y_TEST, valores_preditos))\n",
    "\n",
    "    neg_prec_adasyn.append(report['Negativo']['precision'])\n",
    "    neg_recall_adasyn.append(report['Negativo']['recall'])\n",
    "    neg_fscore_adasyn.append(report['Negativo']['f1-score'])\n",
    "\n",
    "    pos_prec_adasyn.append(report['Positivo']['precision'])\n",
    "    pos_recall_adasyn.append(report['Positivo']['recall'])\n",
    "    pos_fscore_adasyn.append(report['Positivo']['f1-score'])\n",
    "\n",
    "    #auc_adasyn.append(roc_auc_score(Y_TEST, knn.predict_proba(X_TEST)[:, 1]))\n",
    "\n",
    "    #RocCurveDisplay.from_estimator(rna, X_TEST, Y_TEST)\n",
    "    #plt.show()\n",
    "\n",
    "SVM_adasyn = pd.DataFrame().assign(SVM_accuracy_adasyn=accuracy_adasyn,\n",
    "                              SVM_neg_prec_adasyn=neg_prec_adasyn,\n",
    "                              SVM_neg_recall_adasyn=neg_recall_adasyn,\n",
    "                              SVM_neg_fscore_adasyn=neg_fscore_adasyn,\n",
    "                              SVM_pos_prec_adasyn=pos_prec_adasyn,\n",
    "                              SVM_pos_recall_adasyn=pos_recall_adasyn,\n",
    "                              SVM_pos_fscore_adasyn = pos_fscore_adasyn)\n",
    "\n",
    "SVM_adasyn.to_csv(\"../Resultados/SVM_\"+str(data.shape[1]-1)+\"V_adasyn.csv\", encoding = 'utf-8', index = False)\n",
    "\n",
    "print(\"FIM\")"
   ]
  },
  {
   "cell_type": "markdown",
   "metadata": {},
   "source": [
    "## **SVM CONTROLE**"
   ]
  },
  {
   "cell_type": "code",
   "execution_count": 13,
   "metadata": {},
   "outputs": [
    {
     "name": "stderr",
     "output_type": "stream",
     "text": [
      "c:\\Users\\caiod\\AppData\\Local\\Programs\\Python\\Python312\\Lib\\site-packages\\sklearn\\base.py:458: UserWarning: X has feature names, but OneClassSVM was fitted without feature names\n",
      "  warnings.warn(\n",
      "c:\\Users\\caiod\\AppData\\Local\\Programs\\Python\\Python312\\Lib\\site-packages\\sklearn\\base.py:458: UserWarning: X has feature names, but OneClassSVM was fitted without feature names\n",
      "  warnings.warn(\n",
      "c:\\Users\\caiod\\AppData\\Local\\Programs\\Python\\Python312\\Lib\\site-packages\\sklearn\\base.py:458: UserWarning: X has feature names, but OneClassSVM was fitted without feature names\n",
      "  warnings.warn(\n",
      "c:\\Users\\caiod\\AppData\\Local\\Programs\\Python\\Python312\\Lib\\site-packages\\sklearn\\base.py:458: UserWarning: X has feature names, but OneClassSVM was fitted without feature names\n",
      "  warnings.warn(\n",
      "c:\\Users\\caiod\\AppData\\Local\\Programs\\Python\\Python312\\Lib\\site-packages\\sklearn\\base.py:458: UserWarning: X has feature names, but OneClassSVM was fitted without feature names\n",
      "  warnings.warn(\n",
      "c:\\Users\\caiod\\AppData\\Local\\Programs\\Python\\Python312\\Lib\\site-packages\\sklearn\\base.py:458: UserWarning: X has feature names, but OneClassSVM was fitted without feature names\n",
      "  warnings.warn(\n",
      "c:\\Users\\caiod\\AppData\\Local\\Programs\\Python\\Python312\\Lib\\site-packages\\sklearn\\base.py:458: UserWarning: X has feature names, but OneClassSVM was fitted without feature names\n",
      "  warnings.warn(\n",
      "c:\\Users\\caiod\\AppData\\Local\\Programs\\Python\\Python312\\Lib\\site-packages\\sklearn\\base.py:458: UserWarning: X has feature names, but OneClassSVM was fitted without feature names\n",
      "  warnings.warn(\n",
      "c:\\Users\\caiod\\AppData\\Local\\Programs\\Python\\Python312\\Lib\\site-packages\\sklearn\\base.py:458: UserWarning: X has feature names, but OneClassSVM was fitted without feature names\n",
      "  warnings.warn(\n",
      "c:\\Users\\caiod\\AppData\\Local\\Programs\\Python\\Python312\\Lib\\site-packages\\sklearn\\base.py:458: UserWarning: X has feature names, but OneClassSVM was fitted without feature names\n",
      "  warnings.warn(\n",
      "c:\\Users\\caiod\\AppData\\Local\\Programs\\Python\\Python312\\Lib\\site-packages\\sklearn\\base.py:458: UserWarning: X has feature names, but OneClassSVM was fitted without feature names\n",
      "  warnings.warn(\n",
      "c:\\Users\\caiod\\AppData\\Local\\Programs\\Python\\Python312\\Lib\\site-packages\\sklearn\\base.py:458: UserWarning: X has feature names, but OneClassSVM was fitted without feature names\n",
      "  warnings.warn(\n",
      "c:\\Users\\caiod\\AppData\\Local\\Programs\\Python\\Python312\\Lib\\site-packages\\sklearn\\base.py:458: UserWarning: X has feature names, but OneClassSVM was fitted without feature names\n",
      "  warnings.warn(\n",
      "c:\\Users\\caiod\\AppData\\Local\\Programs\\Python\\Python312\\Lib\\site-packages\\sklearn\\base.py:458: UserWarning: X has feature names, but OneClassSVM was fitted without feature names\n",
      "  warnings.warn(\n",
      "c:\\Users\\caiod\\AppData\\Local\\Programs\\Python\\Python312\\Lib\\site-packages\\sklearn\\base.py:458: UserWarning: X has feature names, but OneClassSVM was fitted without feature names\n",
      "  warnings.warn(\n",
      "c:\\Users\\caiod\\AppData\\Local\\Programs\\Python\\Python312\\Lib\\site-packages\\sklearn\\base.py:458: UserWarning: X has feature names, but OneClassSVM was fitted without feature names\n",
      "  warnings.warn(\n",
      "c:\\Users\\caiod\\AppData\\Local\\Programs\\Python\\Python312\\Lib\\site-packages\\sklearn\\base.py:458: UserWarning: X has feature names, but OneClassSVM was fitted without feature names\n",
      "  warnings.warn(\n",
      "c:\\Users\\caiod\\AppData\\Local\\Programs\\Python\\Python312\\Lib\\site-packages\\sklearn\\base.py:458: UserWarning: X has feature names, but OneClassSVM was fitted without feature names\n",
      "  warnings.warn(\n",
      "c:\\Users\\caiod\\AppData\\Local\\Programs\\Python\\Python312\\Lib\\site-packages\\sklearn\\base.py:458: UserWarning: X has feature names, but OneClassSVM was fitted without feature names\n",
      "  warnings.warn(\n",
      "c:\\Users\\caiod\\AppData\\Local\\Programs\\Python\\Python312\\Lib\\site-packages\\sklearn\\base.py:458: UserWarning: X has feature names, but OneClassSVM was fitted without feature names\n",
      "  warnings.warn(\n",
      "c:\\Users\\caiod\\AppData\\Local\\Programs\\Python\\Python312\\Lib\\site-packages\\sklearn\\base.py:458: UserWarning: X has feature names, but OneClassSVM was fitted without feature names\n",
      "  warnings.warn(\n",
      "c:\\Users\\caiod\\AppData\\Local\\Programs\\Python\\Python312\\Lib\\site-packages\\sklearn\\base.py:458: UserWarning: X has feature names, but OneClassSVM was fitted without feature names\n",
      "  warnings.warn(\n",
      "c:\\Users\\caiod\\AppData\\Local\\Programs\\Python\\Python312\\Lib\\site-packages\\sklearn\\base.py:458: UserWarning: X has feature names, but OneClassSVM was fitted without feature names\n",
      "  warnings.warn(\n",
      "c:\\Users\\caiod\\AppData\\Local\\Programs\\Python\\Python312\\Lib\\site-packages\\sklearn\\base.py:458: UserWarning: X has feature names, but OneClassSVM was fitted without feature names\n",
      "  warnings.warn(\n",
      "c:\\Users\\caiod\\AppData\\Local\\Programs\\Python\\Python312\\Lib\\site-packages\\sklearn\\base.py:458: UserWarning: X has feature names, but OneClassSVM was fitted without feature names\n",
      "  warnings.warn(\n",
      "c:\\Users\\caiod\\AppData\\Local\\Programs\\Python\\Python312\\Lib\\site-packages\\sklearn\\base.py:458: UserWarning: X has feature names, but OneClassSVM was fitted without feature names\n",
      "  warnings.warn(\n",
      "c:\\Users\\caiod\\AppData\\Local\\Programs\\Python\\Python312\\Lib\\site-packages\\sklearn\\base.py:458: UserWarning: X has feature names, but OneClassSVM was fitted without feature names\n",
      "  warnings.warn(\n",
      "c:\\Users\\caiod\\AppData\\Local\\Programs\\Python\\Python312\\Lib\\site-packages\\sklearn\\base.py:458: UserWarning: X has feature names, but OneClassSVM was fitted without feature names\n",
      "  warnings.warn(\n",
      "c:\\Users\\caiod\\AppData\\Local\\Programs\\Python\\Python312\\Lib\\site-packages\\sklearn\\base.py:458: UserWarning: X has feature names, but OneClassSVM was fitted without feature names\n",
      "  warnings.warn(\n",
      "c:\\Users\\caiod\\AppData\\Local\\Programs\\Python\\Python312\\Lib\\site-packages\\sklearn\\base.py:458: UserWarning: X has feature names, but OneClassSVM was fitted without feature names\n",
      "  warnings.warn(\n",
      "c:\\Users\\caiod\\AppData\\Local\\Programs\\Python\\Python312\\Lib\\site-packages\\sklearn\\base.py:458: UserWarning: X has feature names, but OneClassSVM was fitted without feature names\n",
      "  warnings.warn(\n",
      "c:\\Users\\caiod\\AppData\\Local\\Programs\\Python\\Python312\\Lib\\site-packages\\sklearn\\base.py:458: UserWarning: X has feature names, but OneClassSVM was fitted without feature names\n",
      "  warnings.warn(\n",
      "c:\\Users\\caiod\\AppData\\Local\\Programs\\Python\\Python312\\Lib\\site-packages\\sklearn\\base.py:458: UserWarning: X has feature names, but OneClassSVM was fitted without feature names\n",
      "  warnings.warn(\n",
      "c:\\Users\\caiod\\AppData\\Local\\Programs\\Python\\Python312\\Lib\\site-packages\\sklearn\\base.py:458: UserWarning: X has feature names, but OneClassSVM was fitted without feature names\n",
      "  warnings.warn(\n",
      "c:\\Users\\caiod\\AppData\\Local\\Programs\\Python\\Python312\\Lib\\site-packages\\sklearn\\base.py:458: UserWarning: X has feature names, but OneClassSVM was fitted without feature names\n",
      "  warnings.warn(\n",
      "c:\\Users\\caiod\\AppData\\Local\\Programs\\Python\\Python312\\Lib\\site-packages\\sklearn\\base.py:458: UserWarning: X has feature names, but OneClassSVM was fitted without feature names\n",
      "  warnings.warn(\n",
      "c:\\Users\\caiod\\AppData\\Local\\Programs\\Python\\Python312\\Lib\\site-packages\\sklearn\\base.py:458: UserWarning: X has feature names, but OneClassSVM was fitted without feature names\n",
      "  warnings.warn(\n",
      "c:\\Users\\caiod\\AppData\\Local\\Programs\\Python\\Python312\\Lib\\site-packages\\sklearn\\base.py:458: UserWarning: X has feature names, but OneClassSVM was fitted without feature names\n",
      "  warnings.warn(\n",
      "c:\\Users\\caiod\\AppData\\Local\\Programs\\Python\\Python312\\Lib\\site-packages\\sklearn\\base.py:458: UserWarning: X has feature names, but OneClassSVM was fitted without feature names\n",
      "  warnings.warn(\n",
      "c:\\Users\\caiod\\AppData\\Local\\Programs\\Python\\Python312\\Lib\\site-packages\\sklearn\\base.py:458: UserWarning: X has feature names, but OneClassSVM was fitted without feature names\n",
      "  warnings.warn(\n",
      "c:\\Users\\caiod\\AppData\\Local\\Programs\\Python\\Python312\\Lib\\site-packages\\sklearn\\base.py:458: UserWarning: X has feature names, but OneClassSVM was fitted without feature names\n",
      "  warnings.warn(\n",
      "c:\\Users\\caiod\\AppData\\Local\\Programs\\Python\\Python312\\Lib\\site-packages\\sklearn\\base.py:458: UserWarning: X has feature names, but OneClassSVM was fitted without feature names\n",
      "  warnings.warn(\n",
      "c:\\Users\\caiod\\AppData\\Local\\Programs\\Python\\Python312\\Lib\\site-packages\\sklearn\\base.py:458: UserWarning: X has feature names, but OneClassSVM was fitted without feature names\n",
      "  warnings.warn(\n",
      "c:\\Users\\caiod\\AppData\\Local\\Programs\\Python\\Python312\\Lib\\site-packages\\sklearn\\base.py:458: UserWarning: X has feature names, but OneClassSVM was fitted without feature names\n",
      "  warnings.warn(\n",
      "c:\\Users\\caiod\\AppData\\Local\\Programs\\Python\\Python312\\Lib\\site-packages\\sklearn\\base.py:458: UserWarning: X has feature names, but OneClassSVM was fitted without feature names\n",
      "  warnings.warn(\n",
      "c:\\Users\\caiod\\AppData\\Local\\Programs\\Python\\Python312\\Lib\\site-packages\\sklearn\\base.py:458: UserWarning: X has feature names, but OneClassSVM was fitted without feature names\n",
      "  warnings.warn(\n",
      "c:\\Users\\caiod\\AppData\\Local\\Programs\\Python\\Python312\\Lib\\site-packages\\sklearn\\base.py:458: UserWarning: X has feature names, but OneClassSVM was fitted without feature names\n",
      "  warnings.warn(\n",
      "c:\\Users\\caiod\\AppData\\Local\\Programs\\Python\\Python312\\Lib\\site-packages\\sklearn\\base.py:458: UserWarning: X has feature names, but OneClassSVM was fitted without feature names\n",
      "  warnings.warn(\n",
      "c:\\Users\\caiod\\AppData\\Local\\Programs\\Python\\Python312\\Lib\\site-packages\\sklearn\\base.py:458: UserWarning: X has feature names, but OneClassSVM was fitted without feature names\n",
      "  warnings.warn(\n",
      "c:\\Users\\caiod\\AppData\\Local\\Programs\\Python\\Python312\\Lib\\site-packages\\sklearn\\base.py:458: UserWarning: X has feature names, but OneClassSVM was fitted without feature names\n",
      "  warnings.warn(\n",
      "c:\\Users\\caiod\\AppData\\Local\\Programs\\Python\\Python312\\Lib\\site-packages\\sklearn\\base.py:458: UserWarning: X has feature names, but OneClassSVM was fitted without feature names\n",
      "  warnings.warn(\n",
      "c:\\Users\\caiod\\AppData\\Local\\Programs\\Python\\Python312\\Lib\\site-packages\\sklearn\\base.py:458: UserWarning: X has feature names, but OneClassSVM was fitted without feature names\n",
      "  warnings.warn(\n",
      "c:\\Users\\caiod\\AppData\\Local\\Programs\\Python\\Python312\\Lib\\site-packages\\sklearn\\base.py:458: UserWarning: X has feature names, but OneClassSVM was fitted without feature names\n",
      "  warnings.warn(\n",
      "c:\\Users\\caiod\\AppData\\Local\\Programs\\Python\\Python312\\Lib\\site-packages\\sklearn\\base.py:458: UserWarning: X has feature names, but OneClassSVM was fitted without feature names\n",
      "  warnings.warn(\n",
      "c:\\Users\\caiod\\AppData\\Local\\Programs\\Python\\Python312\\Lib\\site-packages\\sklearn\\base.py:458: UserWarning: X has feature names, but OneClassSVM was fitted without feature names\n",
      "  warnings.warn(\n",
      "c:\\Users\\caiod\\AppData\\Local\\Programs\\Python\\Python312\\Lib\\site-packages\\sklearn\\base.py:458: UserWarning: X has feature names, but OneClassSVM was fitted without feature names\n",
      "  warnings.warn(\n",
      "c:\\Users\\caiod\\AppData\\Local\\Programs\\Python\\Python312\\Lib\\site-packages\\sklearn\\base.py:458: UserWarning: X has feature names, but OneClassSVM was fitted without feature names\n",
      "  warnings.warn(\n",
      "c:\\Users\\caiod\\AppData\\Local\\Programs\\Python\\Python312\\Lib\\site-packages\\sklearn\\base.py:458: UserWarning: X has feature names, but OneClassSVM was fitted without feature names\n",
      "  warnings.warn(\n",
      "c:\\Users\\caiod\\AppData\\Local\\Programs\\Python\\Python312\\Lib\\site-packages\\sklearn\\base.py:458: UserWarning: X has feature names, but OneClassSVM was fitted without feature names\n",
      "  warnings.warn(\n",
      "c:\\Users\\caiod\\AppData\\Local\\Programs\\Python\\Python312\\Lib\\site-packages\\sklearn\\base.py:458: UserWarning: X has feature names, but OneClassSVM was fitted without feature names\n",
      "  warnings.warn(\n",
      "c:\\Users\\caiod\\AppData\\Local\\Programs\\Python\\Python312\\Lib\\site-packages\\sklearn\\base.py:458: UserWarning: X has feature names, but OneClassSVM was fitted without feature names\n",
      "  warnings.warn(\n",
      "c:\\Users\\caiod\\AppData\\Local\\Programs\\Python\\Python312\\Lib\\site-packages\\sklearn\\base.py:458: UserWarning: X has feature names, but OneClassSVM was fitted without feature names\n",
      "  warnings.warn(\n",
      "c:\\Users\\caiod\\AppData\\Local\\Programs\\Python\\Python312\\Lib\\site-packages\\sklearn\\base.py:458: UserWarning: X has feature names, but OneClassSVM was fitted without feature names\n",
      "  warnings.warn(\n",
      "c:\\Users\\caiod\\AppData\\Local\\Programs\\Python\\Python312\\Lib\\site-packages\\sklearn\\base.py:458: UserWarning: X has feature names, but OneClassSVM was fitted without feature names\n",
      "  warnings.warn(\n",
      "c:\\Users\\caiod\\AppData\\Local\\Programs\\Python\\Python312\\Lib\\site-packages\\sklearn\\base.py:458: UserWarning: X has feature names, but OneClassSVM was fitted without feature names\n",
      "  warnings.warn(\n",
      "c:\\Users\\caiod\\AppData\\Local\\Programs\\Python\\Python312\\Lib\\site-packages\\sklearn\\base.py:458: UserWarning: X has feature names, but OneClassSVM was fitted without feature names\n",
      "  warnings.warn(\n",
      "c:\\Users\\caiod\\AppData\\Local\\Programs\\Python\\Python312\\Lib\\site-packages\\sklearn\\base.py:458: UserWarning: X has feature names, but OneClassSVM was fitted without feature names\n",
      "  warnings.warn(\n",
      "c:\\Users\\caiod\\AppData\\Local\\Programs\\Python\\Python312\\Lib\\site-packages\\sklearn\\base.py:458: UserWarning: X has feature names, but OneClassSVM was fitted without feature names\n",
      "  warnings.warn(\n",
      "c:\\Users\\caiod\\AppData\\Local\\Programs\\Python\\Python312\\Lib\\site-packages\\sklearn\\base.py:458: UserWarning: X has feature names, but OneClassSVM was fitted without feature names\n",
      "  warnings.warn(\n",
      "c:\\Users\\caiod\\AppData\\Local\\Programs\\Python\\Python312\\Lib\\site-packages\\sklearn\\base.py:458: UserWarning: X has feature names, but OneClassSVM was fitted without feature names\n",
      "  warnings.warn(\n",
      "c:\\Users\\caiod\\AppData\\Local\\Programs\\Python\\Python312\\Lib\\site-packages\\sklearn\\base.py:458: UserWarning: X has feature names, but OneClassSVM was fitted without feature names\n",
      "  warnings.warn(\n",
      "c:\\Users\\caiod\\AppData\\Local\\Programs\\Python\\Python312\\Lib\\site-packages\\sklearn\\base.py:458: UserWarning: X has feature names, but OneClassSVM was fitted without feature names\n",
      "  warnings.warn(\n",
      "c:\\Users\\caiod\\AppData\\Local\\Programs\\Python\\Python312\\Lib\\site-packages\\sklearn\\base.py:458: UserWarning: X has feature names, but OneClassSVM was fitted without feature names\n",
      "  warnings.warn(\n",
      "c:\\Users\\caiod\\AppData\\Local\\Programs\\Python\\Python312\\Lib\\site-packages\\sklearn\\base.py:458: UserWarning: X has feature names, but OneClassSVM was fitted without feature names\n",
      "  warnings.warn(\n",
      "c:\\Users\\caiod\\AppData\\Local\\Programs\\Python\\Python312\\Lib\\site-packages\\sklearn\\base.py:458: UserWarning: X has feature names, but OneClassSVM was fitted without feature names\n",
      "  warnings.warn(\n",
      "c:\\Users\\caiod\\AppData\\Local\\Programs\\Python\\Python312\\Lib\\site-packages\\sklearn\\base.py:458: UserWarning: X has feature names, but OneClassSVM was fitted without feature names\n",
      "  warnings.warn(\n",
      "c:\\Users\\caiod\\AppData\\Local\\Programs\\Python\\Python312\\Lib\\site-packages\\sklearn\\base.py:458: UserWarning: X has feature names, but OneClassSVM was fitted without feature names\n",
      "  warnings.warn(\n",
      "c:\\Users\\caiod\\AppData\\Local\\Programs\\Python\\Python312\\Lib\\site-packages\\sklearn\\base.py:458: UserWarning: X has feature names, but OneClassSVM was fitted without feature names\n",
      "  warnings.warn(\n",
      "c:\\Users\\caiod\\AppData\\Local\\Programs\\Python\\Python312\\Lib\\site-packages\\sklearn\\base.py:458: UserWarning: X has feature names, but OneClassSVM was fitted without feature names\n",
      "  warnings.warn(\n",
      "c:\\Users\\caiod\\AppData\\Local\\Programs\\Python\\Python312\\Lib\\site-packages\\sklearn\\base.py:458: UserWarning: X has feature names, but OneClassSVM was fitted without feature names\n",
      "  warnings.warn(\n",
      "c:\\Users\\caiod\\AppData\\Local\\Programs\\Python\\Python312\\Lib\\site-packages\\sklearn\\base.py:458: UserWarning: X has feature names, but OneClassSVM was fitted without feature names\n",
      "  warnings.warn(\n",
      "c:\\Users\\caiod\\AppData\\Local\\Programs\\Python\\Python312\\Lib\\site-packages\\sklearn\\base.py:458: UserWarning: X has feature names, but OneClassSVM was fitted without feature names\n",
      "  warnings.warn(\n",
      "c:\\Users\\caiod\\AppData\\Local\\Programs\\Python\\Python312\\Lib\\site-packages\\sklearn\\base.py:458: UserWarning: X has feature names, but OneClassSVM was fitted without feature names\n",
      "  warnings.warn(\n"
     ]
    },
    {
     "name": "stdout",
     "output_type": "stream",
     "text": [
      "FIM\n"
     ]
    },
    {
     "name": "stderr",
     "output_type": "stream",
     "text": [
      "c:\\Users\\caiod\\AppData\\Local\\Programs\\Python\\Python312\\Lib\\site-packages\\sklearn\\base.py:458: UserWarning: X has feature names, but OneClassSVM was fitted without feature names\n",
      "  warnings.warn(\n",
      "c:\\Users\\caiod\\AppData\\Local\\Programs\\Python\\Python312\\Lib\\site-packages\\sklearn\\base.py:458: UserWarning: X has feature names, but OneClassSVM was fitted without feature names\n",
      "  warnings.warn(\n",
      "c:\\Users\\caiod\\AppData\\Local\\Programs\\Python\\Python312\\Lib\\site-packages\\sklearn\\base.py:458: UserWarning: X has feature names, but OneClassSVM was fitted without feature names\n",
      "  warnings.warn(\n",
      "c:\\Users\\caiod\\AppData\\Local\\Programs\\Python\\Python312\\Lib\\site-packages\\sklearn\\base.py:458: UserWarning: X has feature names, but OneClassSVM was fitted without feature names\n",
      "  warnings.warn(\n",
      "c:\\Users\\caiod\\AppData\\Local\\Programs\\Python\\Python312\\Lib\\site-packages\\sklearn\\base.py:458: UserWarning: X has feature names, but OneClassSVM was fitted without feature names\n",
      "  warnings.warn(\n",
      "c:\\Users\\caiod\\AppData\\Local\\Programs\\Python\\Python312\\Lib\\site-packages\\sklearn\\base.py:458: UserWarning: X has feature names, but OneClassSVM was fitted without feature names\n",
      "  warnings.warn(\n",
      "c:\\Users\\caiod\\AppData\\Local\\Programs\\Python\\Python312\\Lib\\site-packages\\sklearn\\base.py:458: UserWarning: X has feature names, but OneClassSVM was fitted without feature names\n",
      "  warnings.warn(\n",
      "c:\\Users\\caiod\\AppData\\Local\\Programs\\Python\\Python312\\Lib\\site-packages\\sklearn\\base.py:458: UserWarning: X has feature names, but OneClassSVM was fitted without feature names\n",
      "  warnings.warn(\n",
      "c:\\Users\\caiod\\AppData\\Local\\Programs\\Python\\Python312\\Lib\\site-packages\\sklearn\\base.py:458: UserWarning: X has feature names, but OneClassSVM was fitted without feature names\n",
      "  warnings.warn(\n",
      "c:\\Users\\caiod\\AppData\\Local\\Programs\\Python\\Python312\\Lib\\site-packages\\sklearn\\base.py:458: UserWarning: X has feature names, but OneClassSVM was fitted without feature names\n",
      "  warnings.warn(\n",
      "c:\\Users\\caiod\\AppData\\Local\\Programs\\Python\\Python312\\Lib\\site-packages\\sklearn\\base.py:458: UserWarning: X has feature names, but OneClassSVM was fitted without feature names\n",
      "  warnings.warn(\n",
      "c:\\Users\\caiod\\AppData\\Local\\Programs\\Python\\Python312\\Lib\\site-packages\\sklearn\\base.py:458: UserWarning: X has feature names, but OneClassSVM was fitted without feature names\n",
      "  warnings.warn(\n",
      "c:\\Users\\caiod\\AppData\\Local\\Programs\\Python\\Python312\\Lib\\site-packages\\sklearn\\base.py:458: UserWarning: X has feature names, but OneClassSVM was fitted without feature names\n",
      "  warnings.warn(\n",
      "c:\\Users\\caiod\\AppData\\Local\\Programs\\Python\\Python312\\Lib\\site-packages\\sklearn\\base.py:458: UserWarning: X has feature names, but OneClassSVM was fitted without feature names\n",
      "  warnings.warn(\n",
      "c:\\Users\\caiod\\AppData\\Local\\Programs\\Python\\Python312\\Lib\\site-packages\\sklearn\\base.py:458: UserWarning: X has feature names, but OneClassSVM was fitted without feature names\n",
      "  warnings.warn(\n",
      "c:\\Users\\caiod\\AppData\\Local\\Programs\\Python\\Python312\\Lib\\site-packages\\sklearn\\base.py:458: UserWarning: X has feature names, but OneClassSVM was fitted without feature names\n",
      "  warnings.warn(\n",
      "c:\\Users\\caiod\\AppData\\Local\\Programs\\Python\\Python312\\Lib\\site-packages\\sklearn\\base.py:458: UserWarning: X has feature names, but OneClassSVM was fitted without feature names\n",
      "  warnings.warn(\n"
     ]
    }
   ],
   "source": [
    "accuracy_contr = []\n",
    "\n",
    "neg_prec_contr = []\n",
    "neg_recall_contr = []\n",
    "neg_fscore_contr = []\n",
    "\n",
    "pos_prec_contr = []\n",
    "pos_recall_contr = []\n",
    "pos_fscore_contr = []\n",
    "\n",
    "#auc_contr = []\n",
    "\n",
    "num_am_grupo_pos = 60\n",
    "\n",
    "for i in range (0,100):\n",
    "    #-------------------------- MONTANDO CONJUNTO DE TREINO -------------------------------\n",
    "    DATA_NORM_POS = DATA_NORM_POS.sample(frac=1).reset_index(drop=True)\n",
    "    CLASSE_POS = DATA_NORM_POS.head(num_am_grupo_pos)\n",
    "\n",
    "    #-------------------------- TREINANDO SVM -------------------------------\n",
    "    svm = OneClassSVM(gamma='auto', nu=0.45).fit(CLASSE_POS.drop('resul_prop', axis = 1).to_numpy())\n",
    "\n",
    "    #-------------------------- TESTE SVM -------------------------------\n",
    "    TEST_NEG = DATA_NORM_NEG\n",
    "\n",
    "    TEST_POS = DATA_NORM_POS.tail(len(DATA_NORM_POS)-num_am_grupo_pos)\n",
    "\n",
    "    X_TEST = pd.concat([TEST_NEG,TEST_POS], ignore_index = True).drop('resul_prop', axis = 1)\n",
    "    Y_TEST = pd.concat([TEST_NEG,TEST_POS], ignore_index = True)['resul_prop'].replace([0],-1)\n",
    "\n",
    "    valores_preditos = svm.predict(X_TEST)\n",
    "\n",
    "\n",
    "    #-------------------------- MÉTRICAS DE DESEMPENHO -------------------------------\n",
    "    class_names = ['Negativo', 'Positivo']\n",
    "\n",
    "    report = pd.DataFrame.from_dict(classification_report(Y_TEST, valores_preditos, target_names=class_names, output_dict=True))\n",
    "\n",
    "    #ConfusionMatrixDisplay.from_estimator(rna, X_TEST, Y_TEST)\n",
    "    #plt.show(3,5)\n",
    "\n",
    "    accuracy_contr.append(accuracy_score(Y_TEST, valores_preditos))\n",
    "\n",
    "    neg_prec_contr.append(report['Negativo']['precision'])\n",
    "    neg_recall_contr.append(report['Negativo']['recall'])\n",
    "    neg_fscore_contr.append(report['Negativo']['f1-score'])\n",
    "\n",
    "    pos_prec_contr.append(report['Positivo']['precision'])\n",
    "    pos_recall_contr.append(report['Positivo']['recall'])\n",
    "    pos_fscore_contr.append(report['Positivo']['f1-score'])\n",
    "\n",
    "    #auc_contr.append(roc_auc_score(Y_TEST, knn.predict_proba(X_TEST)[:, 1]))\n",
    "\n",
    "    #RocCurveDisplay.from_estimator(rna, X_TEST, Y_TEST)\n",
    "    #plt.show()\n",
    "\n",
    "SVM_contr = pd.DataFrame().assign(SVM_accuracy_contr=accuracy_contr,\n",
    "                              SVM_neg_prec_contr=neg_prec_contr,\n",
    "                              SVM_neg_recall_contr=neg_recall_contr,\n",
    "                              SVM_neg_fscore_contr=neg_fscore_contr,\n",
    "                              SVM_pos_prec_contr=pos_prec_contr,\n",
    "                              SVM_pos_recall_contr=pos_recall_contr,\n",
    "                              SVM_pos_fscore_contr = pos_fscore_contr)\n",
    "\n",
    "SVM_contr.to_csv(\"../Resultados/SVM_\"+str(data.shape[1]-1)+\"V_contr.csv\", encoding = 'utf-8', index = False)\n",
    "\n",
    "print(\"FIM\")"
   ]
  },
  {
   "cell_type": "markdown",
   "metadata": {},
   "source": [
    "## **ESTATÍSTICA**"
   ]
  },
  {
   "cell_type": "markdown",
   "metadata": {},
   "source": [
    "### **AUC**"
   ]
  },
  {
   "cell_type": "code",
   "execution_count": 21,
   "metadata": {},
   "outputs": [
    {
     "name": "stdout",
     "output_type": "stream",
     "text": [
      "9.510862949971779\n",
      "8.178449143412719e-05\n"
     ]
    },
    {
     "data": {
      "image/png": "[encoded data removed]",
      "text/plain": [
       "<Figure size 640x480 with 1 Axes>"
      ]
     },
     "metadata": {},
     "output_type": "display_data"
    },
    {
     "name": "stdout",
     "output_type": "stream",
     "text": [
      "Tukey's HSD Pairwise Group Comparisons (95.0% Confidence Interval)\n",
      "Comparison  Statistic  p-value  Lower CI  Upper CI\n",
      " (0 - 1)      0.007     0.461    -0.007     0.022\n",
      " (0 - 2)     -0.019     0.007    -0.034    -0.004\n",
      " (1 - 0)     -0.007     0.461    -0.022     0.007\n",
      " (1 - 2)     -0.027     0.000    -0.041    -0.012\n",
      " (2 - 0)      0.019     0.007     0.004     0.034\n",
      " (2 - 1)      0.027     0.000     0.012     0.041\n",
      "\n"
     ]
    }
   ],
   "source": [
    "f_value, p_value = stats.f_oneway(auc_rep, auc_adasyn, auc_contr)\n",
    "\n",
    "print(f_value)\n",
    "print(p_value)\n",
    "\n",
    "fig, ax = plt.subplots(1, 1)\n",
    "ax.boxplot([auc_rep, auc_adasyn, auc_contr])\n",
    "ax.set_xticklabels([\"Replicação\", \"ADASYN\", \"Controle\"])\n",
    "ax.set_ylabel(\"Média\")\n",
    "plt.show()\n",
    "\n",
    "res = stats.tukey_hsd(auc_rep, auc_adasyn, auc_contr)\n",
    "print(res)"
   ]
  },
  {
   "cell_type": "markdown",
   "metadata": {},
   "source": [
    "### **ACCURACY**"
   ]
  },
  {
   "cell_type": "code",
   "execution_count": 24,
   "metadata": {},
   "outputs": [
    {
     "name": "stdout",
     "output_type": "stream",
     "text": [
      "9005.214140982638\n",
      "0.0\n"
     ]
    },
    {
     "data": {
      "image/png": "[encoded data removed]",
      "text/plain": [
       "<Figure size 640x480 with 1 Axes>"
      ]
     },
     "metadata": {},
     "output_type": "display_data"
    },
    {
     "name": "stdout",
     "output_type": "stream",
     "text": [
      "Tukey's HSD Pairwise Group Comparisons (95.0% Confidence Interval)\n",
      "Comparison  Statistic  p-value  Lower CI  Upper CI\n",
      " (0 - 1)     -0.379     0.000    -0.387    -0.371\n",
      " (0 - 2)      0.002     0.784    -0.006     0.010\n",
      " (1 - 0)      0.379     0.000     0.371     0.387\n",
      " (1 - 2)      0.381     0.000     0.373     0.389\n",
      " (2 - 0)     -0.002     0.784    -0.010     0.006\n",
      " (2 - 1)     -0.381     0.000    -0.389    -0.373\n",
      "\n"
     ]
    }
   ],
   "source": [
    "f_value, p_value = stats.f_oneway(accuracy_rep, accuracy_adasyn, accuracy_contr)\n",
    "\n",
    "print(f_value)\n",
    "print(p_value)\n",
    "\n",
    "fig, ax = plt.subplots(1, 1)\n",
    "ax.boxplot([accuracy_rep, accuracy_adasyn, accuracy_contr])\n",
    "ax.set_xticklabels([\"Replicação\", \"ADASYN\", \"Controle\"])\n",
    "ax.set_ylabel(\"Média\")\n",
    "plt.show()\n",
    "\n",
    "res = stats.tukey_hsd(accuracy_rep, accuracy_adasyn, accuracy_contr)\n",
    "print(res)"
   ]
  },
  {
   "cell_type": "markdown",
   "metadata": {},
   "source": [
    "### **NEGATIVO PRECISION**"
   ]
  },
  {
   "cell_type": "code",
   "execution_count": 25,
   "metadata": {},
   "outputs": [
    {
     "name": "stdout",
     "output_type": "stream",
     "text": [
      "33.33975529866199\n",
      "1.080508707874829e-14\n"
     ]
    },
    {
     "data": {
      "image/png": "[encoded data removed]",
      "text/plain": [
       "<Figure size 640x480 with 1 Axes>"
      ]
     },
     "metadata": {},
     "output_type": "display_data"
    },
    {
     "name": "stdout",
     "output_type": "stream",
     "text": [
      "Tukey's HSD Pairwise Group Comparisons (95.0% Confidence Interval)\n",
      "Comparison  Statistic  p-value  Lower CI  Upper CI\n",
      " (0 - 1)     -0.001     0.000    -0.001    -0.001\n",
      " (0 - 2)     -0.000     0.019    -0.001    -0.000\n",
      " (1 - 0)      0.001     0.000     0.001     0.001\n",
      " (1 - 2)      0.001     0.000     0.000     0.001\n",
      " (2 - 0)      0.000     0.019     0.000     0.001\n",
      " (2 - 1)     -0.001     0.000    -0.001    -0.000\n",
      "\n"
     ]
    }
   ],
   "source": [
    "f_value, p_value = stats.f_oneway(neg_prec_rep, neg_prec_adasyn, neg_prec_contr)\n",
    "\n",
    "print(f_value)\n",
    "print(p_value)\n",
    "\n",
    "fig, ax = plt.subplots(1, 1)\n",
    "ax.boxplot([neg_prec_rep, neg_prec_adasyn, neg_prec_contr])\n",
    "ax.set_xticklabels([\"Replicação\", \"ADASYN\", \"Controle\"])\n",
    "ax.set_ylabel(\"Média\")\n",
    "plt.show()\n",
    "\n",
    "res = stats.tukey_hsd(neg_prec_rep, neg_prec_adasyn, neg_prec_contr)\n",
    "print(res)"
   ]
  },
  {
   "cell_type": "markdown",
   "metadata": {},
   "source": [
    "### **POSITIVO PRECISION**"
   ]
  },
  {
   "cell_type": "code",
   "execution_count": 26,
   "metadata": {},
   "outputs": [
    {
     "name": "stdout",
     "output_type": "stream",
     "text": [
      "110.08554820762924\n",
      "1.760877997733059e-43\n"
     ]
    },
    {
     "data": {
      "image/png": "[encoded data removed]",
      "text/plain": [
       "<Figure size 640x480 with 1 Axes>"
      ]
     },
     "metadata": {},
     "output_type": "display_data"
    },
    {
     "name": "stdout",
     "output_type": "stream",
     "text": [
      "Tukey's HSD Pairwise Group Comparisons (95.0% Confidence Interval)\n",
      "Comparison  Statistic  p-value  Lower CI  Upper CI\n",
      " (0 - 1)      0.002     0.000     0.002     0.003\n",
      " (0 - 2)     -0.000     0.338    -0.001     0.000\n",
      " (1 - 0)     -0.002     0.000    -0.003    -0.002\n",
      " (1 - 2)     -0.003     0.000    -0.003    -0.002\n",
      " (2 - 0)      0.000     0.338    -0.000     0.001\n",
      " (2 - 1)      0.003     0.000     0.002     0.003\n",
      "\n"
     ]
    }
   ],
   "source": [
    "f_value, p_value = stats.f_oneway(pos_prec_rep, pos_prec_adasyn, pos_prec_contr)\n",
    "\n",
    "print(f_value)\n",
    "print(p_value)\n",
    "\n",
    "fig, ax = plt.subplots(1, 1)\n",
    "ax.boxplot([pos_prec_rep, pos_prec_adasyn, pos_prec_contr])\n",
    "ax.set_xticklabels([\"Replicação\", \"ADASYN\", \"Controle\"])\n",
    "ax.set_ylabel(\"Média\")\n",
    "plt.show()\n",
    "\n",
    "res = stats.tukey_hsd(pos_prec_rep, pos_prec_adasyn, pos_prec_contr)\n",
    "print(res)"
   ]
  },
  {
   "cell_type": "markdown",
   "metadata": {},
   "source": [
    "### **NEGATIVO RECALL**"
   ]
  },
  {
   "cell_type": "code",
   "execution_count": 27,
   "metadata": {},
   "outputs": [
    {
     "name": "stdout",
     "output_type": "stream",
     "text": [
      "8763.050557449247\n",
      "0.0\n"
     ]
    },
    {
     "data": {
      "image/png": "[encoded data removed]",
      "text/plain": [
       "<Figure size 640x480 with 1 Axes>"
      ]
     },
     "metadata": {},
     "output_type": "display_data"
    },
    {
     "name": "stdout",
     "output_type": "stream",
     "text": [
      "Tukey's HSD Pairwise Group Comparisons (95.0% Confidence Interval)\n",
      "Comparison  Statistic  p-value  Lower CI  Upper CI\n",
      " (0 - 1)     -0.387     0.000    -0.395    -0.379\n",
      " (0 - 2)      0.002     0.762    -0.006     0.010\n",
      " (1 - 0)      0.387     0.000     0.379     0.395\n",
      " (1 - 2)      0.389     0.000     0.381     0.397\n",
      " (2 - 0)     -0.002     0.762    -0.010     0.006\n",
      " (2 - 1)     -0.389     0.000    -0.397    -0.381\n",
      "\n"
     ]
    }
   ],
   "source": [
    "f_value, p_value = stats.f_oneway(neg_recall_rep, neg_recall_adasyn, neg_recall_contr)\n",
    "\n",
    "print(f_value)\n",
    "print(p_value)\n",
    "\n",
    "fig, ax = plt.subplots(1, 1)\n",
    "ax.boxplot([neg_recall_rep, neg_recall_adasyn, neg_recall_contr])\n",
    "ax.set_xticklabels([\"Replicação\", \"ADASYN\", \"Controle\"])\n",
    "ax.set_ylabel(\"Média\")\n",
    "plt.show()\n",
    "\n",
    "res = stats.tukey_hsd(neg_recall_rep, neg_recall_adasyn, neg_recall_contr)\n",
    "print(res)"
   ]
  },
  {
   "cell_type": "markdown",
   "metadata": {},
   "source": [
    "### **POSITIVO RECALL**"
   ]
  },
  {
   "cell_type": "code",
   "execution_count": 28,
   "metadata": {},
   "outputs": [
    {
     "name": "stdout",
     "output_type": "stream",
     "text": [
      "1174.9789897911105\n",
      "2.692309565164296e-251\n"
     ]
    },
    {
     "data": {
      "image/png": "[encoded data removed]",
      "text/plain": [
       "<Figure size 640x480 with 1 Axes>"
      ]
     },
     "metadata": {},
     "output_type": "display_data"
    },
    {
     "name": "stdout",
     "output_type": "stream",
     "text": [
      "Tukey's HSD Pairwise Group Comparisons (95.0% Confidence Interval)\n",
      "Comparison  Statistic  p-value  Lower CI  Upper CI\n",
      " (0 - 1)      0.370     0.000     0.349     0.391\n",
      " (0 - 2)     -0.018     0.126    -0.039     0.004\n",
      " (1 - 0)     -0.370     0.000    -0.391    -0.349\n",
      " (1 - 2)     -0.387     0.000    -0.409    -0.366\n",
      " (2 - 0)      0.018     0.126    -0.004     0.039\n",
      " (2 - 1)      0.387     0.000     0.366     0.409\n",
      "\n"
     ]
    }
   ],
   "source": [
    "f_value, p_value = stats.f_oneway(pos_recall_rep, pos_recall_adasyn, pos_recall_contr)\n",
    "\n",
    "print(f_value)\n",
    "print(p_value)\n",
    "\n",
    "fig, ax = plt.subplots(1, 1)\n",
    "ax.boxplot([pos_recall_rep, pos_recall_adasyn, pos_recall_contr])\n",
    "ax.set_xticklabels([\"Replicação\", \"ADASYN\", \"Controle\"])\n",
    "ax.set_ylabel(\"Média\")\n",
    "plt.show()\n",
    "\n",
    "res = stats.tukey_hsd(pos_recall_rep, pos_recall_adasyn, pos_recall_contr)\n",
    "print(res)"
   ]
  },
  {
   "cell_type": "markdown",
   "metadata": {},
   "source": [
    "### **NEGATIVO F1-SCORE**"
   ]
  },
  {
   "cell_type": "code",
   "execution_count": 29,
   "metadata": {},
   "outputs": [
    {
     "name": "stdout",
     "output_type": "stream",
     "text": [
      "5989.686087068585\n",
      "0.0\n"
     ]
    },
    {
     "data": {
      "image/png": "[encoded data removed]",
      "text/plain": [
       "<Figure size 640x480 with 1 Axes>"
      ]
     },
     "metadata": {},
     "output_type": "display_data"
    },
    {
     "name": "stdout",
     "output_type": "stream",
     "text": [
      "Tukey's HSD Pairwise Group Comparisons (95.0% Confidence Interval)\n",
      "Comparison  Statistic  p-value  Lower CI  Upper CI\n",
      " (0 - 1)     -0.302     0.000    -0.309    -0.294\n",
      " (0 - 2)      0.002     0.766    -0.005     0.010\n",
      " (1 - 0)      0.302     0.000     0.294     0.309\n",
      " (1 - 2)      0.304     0.000     0.297     0.312\n",
      " (2 - 0)     -0.002     0.766    -0.010     0.005\n",
      " (2 - 1)     -0.304     0.000    -0.312    -0.297\n",
      "\n"
     ]
    }
   ],
   "source": [
    "f_value, p_value = stats.f_oneway(neg_fscore_rep, neg_fscore_adasyn, neg_fscore_contr)\n",
    "\n",
    "print(f_value)\n",
    "print(p_value)\n",
    "\n",
    "fig, ax = plt.subplots(1, 1)\n",
    "ax.boxplot([neg_fscore_rep, neg_fscore_adasyn, neg_fscore_contr])\n",
    "ax.set_xticklabels([\"Replicação\", \"ADASYN\", \"Controle\"])\n",
    "ax.set_ylabel(\"Média\")\n",
    "plt.show()\n",
    "\n",
    "res = stats.tukey_hsd(neg_fscore_rep, neg_fscore_adasyn, neg_fscore_contr)\n",
    "print(res)"
   ]
  },
  {
   "cell_type": "markdown",
   "metadata": {},
   "source": [
    "### **POSITIVO F1-SCORE**"
   ]
  },
  {
   "cell_type": "code",
   "execution_count": 30,
   "metadata": {},
   "outputs": [
    {
     "name": "stdout",
     "output_type": "stream",
     "text": [
      "133.5989053411068\n",
      "1.6383272826321498e-51\n"
     ]
    },
    {
     "data": {
      "image/png": "[encoded data removed]",
      "text/plain": [
       "<Figure size 640x480 with 1 Axes>"
      ]
     },
     "metadata": {},
     "output_type": "display_data"
    },
    {
     "name": "stdout",
     "output_type": "stream",
     "text": [
      "Tukey's HSD Pairwise Group Comparisons (95.0% Confidence Interval)\n",
      "Comparison  Statistic  p-value  Lower CI  Upper CI\n",
      " (0 - 1)      0.005     0.000     0.004     0.006\n",
      " (0 - 2)     -0.001     0.324    -0.001     0.000\n",
      " (1 - 0)     -0.005     0.000    -0.006    -0.004\n",
      " (1 - 2)     -0.006     0.000    -0.006    -0.005\n",
      " (2 - 0)      0.001     0.324    -0.000     0.001\n",
      " (2 - 1)      0.006     0.000     0.005     0.006\n",
      "\n"
     ]
    }
   ],
   "source": [
    "f_value, p_value = stats.f_oneway(pos_fscore_rep, pos_fscore_adasyn, pos_fscore_contr)\n",
    "\n",
    "print(f_value)\n",
    "print(p_value)\n",
    "\n",
    "fig, ax = plt.subplots(1, 1)\n",
    "ax.boxplot([pos_fscore_rep, pos_fscore_adasyn, pos_fscore_contr])\n",
    "ax.set_xticklabels([\"Replicação\", \"ADASYN\", \"Controle\"])\n",
    "ax.set_ylabel(\"Média\")\n",
    "plt.show()\n",
    "\n",
    "res = stats.tukey_hsd(pos_fscore_rep, pos_fscore_adasyn, pos_fscore_contr)\n",
    "print(res)"
   ]
  }
 ],
 "metadata": {
  "kernelspec": {
   "display_name": "Python 3",
   "language": "python",
   "name": "python3"
  },
  "language_info": {
   "codemirror_mode": {
    "name": "ipython",
    "version": 3
   },
   "file_extension": ".py",
   "mimetype": "text/x-python",
   "name": "python",
   "nbconvert_exporter": "python",
   "pygments_lexer": "ipython3",
   "version": "3.12.0"
  }
 },
 "nbformat": 4,
 "nbformat_minor": 2
}
