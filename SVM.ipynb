{
 "cells": [
  {
   "cell_type": "markdown",
   "metadata": {},
   "source": [
    "## **IMPORTS**"
   ]
  },
  {
   "cell_type": "code",
   "execution_count": 6,
   "metadata": {},
   "outputs": [],
   "source": [
    "import Metrics\n",
    "\n",
    "import pandas as pd\n",
    "import numpy as np\n",
    "import matplotlib.pyplot as plt\n",
    "import seaborn as sns\n",
    "\n",
    "# Biblioteca para fazer a NORMALIZAÇÃO\n",
    "from sklearn.preprocessing import MinMaxScaler\n",
    "\n",
    "# Biblioteca para calcular a acuracia do modelo\n",
    "from sklearn.metrics import accuracy_score\n",
    "from sklearn.cluster import KMeans\n",
    "from sklearn.metrics import classification_report\n",
    "\n",
    "from imblearn.over_sampling import ADASYN\n",
    "from collections import Counter\n",
    "\n",
    "from scipy.stats import tukey_hsd\n",
    "from scipy import stats\n",
    "\n",
    "from sklearn.svm import OneClassSVM"
   ]
  },
  {
   "cell_type": "markdown",
   "metadata": {},
   "source": [
    "## **LEITURA DOS DADOS**"
   ]
  },
  {
   "cell_type": "code",
   "execution_count": 7,
   "metadata": {},
   "outputs": [
    {
     "name": "stdout",
     "output_type": "stream",
     "text": [
      "(2185, 11)\n"
     ]
    },
    {
     "data": {
      "text/html": [
       "<div>\n",
       "<style scoped>\n",
       "    .dataframe tbody tr th:only-of-type {\n",
       "        vertical-align: middle;\n",
       "    }\n",
       "\n",
       "    .dataframe tbody tr th {\n",
       "        vertical-align: top;\n",
       "    }\n",
       "\n",
       "    .dataframe thead th {\n",
       "        text-align: right;\n",
       "    }\n",
       "</style>\n",
       "<table border=\"1\" class=\"dataframe\">\n",
       "  <thead>\n",
       "    <tr style=\"text-align: right;\">\n",
       "      <th></th>\n",
       "      <th>inseminacao_2cat</th>\n",
       "      <th>total_animais_prop</th>\n",
       "      <th>teste_bruc</th>\n",
       "      <th>compra_repr</th>\n",
       "      <th>venda_repr</th>\n",
       "      <th>dest_leilao</th>\n",
       "      <th>vacina_semqqidade</th>\n",
       "      <th>piquete_parto</th>\n",
       "      <th>assist_vet</th>\n",
       "      <th>tipo_assist</th>\n",
       "      <th>resul_prop</th>\n",
       "    </tr>\n",
       "  </thead>\n",
       "  <tbody>\n",
       "    <tr>\n",
       "      <th>0</th>\n",
       "      <td>0</td>\n",
       "      <td>15</td>\n",
       "      <td>0</td>\n",
       "      <td>0</td>\n",
       "      <td>0</td>\n",
       "      <td>0</td>\n",
       "      <td>0</td>\n",
       "      <td>0</td>\n",
       "      <td>0</td>\n",
       "      <td>-1</td>\n",
       "      <td>0</td>\n",
       "    </tr>\n",
       "    <tr>\n",
       "      <th>1</th>\n",
       "      <td>0</td>\n",
       "      <td>142</td>\n",
       "      <td>0</td>\n",
       "      <td>1</td>\n",
       "      <td>1</td>\n",
       "      <td>0</td>\n",
       "      <td>1</td>\n",
       "      <td>1</td>\n",
       "      <td>0</td>\n",
       "      <td>-1</td>\n",
       "      <td>0</td>\n",
       "    </tr>\n",
       "    <tr>\n",
       "      <th>2</th>\n",
       "      <td>0</td>\n",
       "      <td>40</td>\n",
       "      <td>0</td>\n",
       "      <td>1</td>\n",
       "      <td>1</td>\n",
       "      <td>0</td>\n",
       "      <td>-1</td>\n",
       "      <td>1</td>\n",
       "      <td>0</td>\n",
       "      <td>-1</td>\n",
       "      <td>0</td>\n",
       "    </tr>\n",
       "    <tr>\n",
       "      <th>3</th>\n",
       "      <td>0</td>\n",
       "      <td>68</td>\n",
       "      <td>0</td>\n",
       "      <td>1</td>\n",
       "      <td>0</td>\n",
       "      <td>0</td>\n",
       "      <td>1</td>\n",
       "      <td>0</td>\n",
       "      <td>0</td>\n",
       "      <td>-1</td>\n",
       "      <td>0</td>\n",
       "    </tr>\n",
       "    <tr>\n",
       "      <th>4</th>\n",
       "      <td>0</td>\n",
       "      <td>38</td>\n",
       "      <td>0</td>\n",
       "      <td>0</td>\n",
       "      <td>0</td>\n",
       "      <td>0</td>\n",
       "      <td>0</td>\n",
       "      <td>0</td>\n",
       "      <td>0</td>\n",
       "      <td>-1</td>\n",
       "      <td>0</td>\n",
       "    </tr>\n",
       "  </tbody>\n",
       "</table>\n",
       "</div>"
      ],
      "text/plain": [
       "   inseminacao_2cat  total_animais_prop  teste_bruc  compra_repr  venda_repr  \\\n",
       "0                 0                  15           0            0           0   \n",
       "1                 0                 142           0            1           1   \n",
       "2                 0                  40           0            1           1   \n",
       "3                 0                  68           0            1           0   \n",
       "4                 0                  38           0            0           0   \n",
       "\n",
       "   dest_leilao  vacina_semqqidade  piquete_parto  assist_vet  tipo_assist  \\\n",
       "0            0                  0              0           0           -1   \n",
       "1            0                  1              1           0           -1   \n",
       "2            0                 -1              1           0           -1   \n",
       "3            0                  1              0           0           -1   \n",
       "4            0                  0              0           0           -1   \n",
       "\n",
       "   resul_prop  \n",
       "0           0  \n",
       "1           0  \n",
       "2           0  \n",
       "3           0  \n",
       "4           0  "
      ]
     },
     "execution_count": 7,
     "metadata": {},
     "output_type": "execute_result"
    }
   ],
   "source": [
    "#data = pd.read_csv('../Base de Dados/Dados_49_V.csv', na_values='?')\n",
    "\n",
    "data = pd.read_csv('../Base de Dados/Dados_10_V_FISHER.csv', na_values='?')\n",
    "\n",
    "print(data.shape)\n",
    "data.head()"
   ]
  },
  {
   "cell_type": "code",
   "execution_count": 8,
   "metadata": {},
   "outputs": [],
   "source": [
    "# Gerando um DataFrame das variáveis preditoras originais SEM a variável TARGET\n",
    "VAR_PREDITORAS_ORIG = data.drop('resul_prop', axis = 1)\n",
    "\n",
    "# Gerando um DataFrame somente da variavel TARGET\n",
    "VAR_TARGET = data['resul_prop']"
   ]
  },
  {
   "cell_type": "markdown",
   "metadata": {},
   "source": [
    "## **NORMALIZAÇÃO**"
   ]
  },
  {
   "cell_type": "code",
   "execution_count": 9,
   "metadata": {},
   "outputs": [
    {
     "data": {
      "image/png": "[encoded data removed]",
      "text/plain": [
       "<Figure size 2000x600 with 1 Axes>"
      ]
     },
     "metadata": {},
     "output_type": "display_data"
    }
   ],
   "source": [
    "# Criando um objeto para NORMALIZAR os dados\n",
    "obj_normalizacao = MinMaxScaler().fit(VAR_PREDITORAS_ORIG)\n",
    "\n",
    "# Aplicando a NORMALIZAÇÃO\n",
    "VAR_PREDITORAS_NORM = obj_normalizacao.transform(VAR_PREDITORAS_ORIG)\n",
    "\n",
    "# Transformando para DataFrame e nomeando as colunas\n",
    "VAR_PREDITORAS_NORM = pd.DataFrame(VAR_PREDITORAS_NORM)\n",
    "\n",
    "VAR_PREDITORAS_NORM.columns = data.drop('resul_prop', axis = 1).columns\n",
    "\n",
    "VAR_PREDITORAS_NORM\n",
    "\n",
    "plt.figure(figsize=(20,6))\n",
    "ax = sns.boxplot(data=VAR_PREDITORAS_NORM)\n",
    "\n",
    "DATA_NORM = VAR_PREDITORAS_NORM.assign(resul_prop=VAR_TARGET)\n",
    "DATA_NORM_NEG = VAR_PREDITORAS_NORM.assign(resul_prop=VAR_TARGET).query('resul_prop == 0').reset_index(drop=True)\n",
    "DATA_NORM_POS = VAR_PREDITORAS_NORM.assign(resul_prop=VAR_TARGET).query('resul_prop == 1').reset_index(drop=True)"
   ]
  },
  {
   "cell_type": "markdown",
   "metadata": {},
   "source": [
    "## **SVM + Replicação**"
   ]
  },
  {
   "cell_type": "code",
   "execution_count": 10,
   "metadata": {},
   "outputs": [
    {
     "name": "stdout",
     "output_type": "stream",
     "text": [
      "FIM\n"
     ]
    }
   ],
   "source": [
    "metricas = pd.DataFrame()\n",
    "\n",
    "num_am_grupo_pos = 60\n",
    "\n",
    "for i in range (0,100):\n",
    "    DATA_NORM_POS = DATA_NORM_POS.sample(frac=1).reset_index(drop=True)\n",
    "    CLASSE_POS = pd.concat([DATA_NORM_POS.head(num_am_grupo_pos),DATA_NORM_POS.head(num_am_grupo_pos)], ignore_index = True)\n",
    "\n",
    "    #-------------------------- TREINANDO SVM -------------------------------\n",
    "    svm = OneClassSVM(gamma='auto', nu=0.45).fit(CLASSE_POS.drop('resul_prop', axis = 1).to_numpy())\n",
    "\n",
    "    #-------------------------- TESTE SVM -------------------------------\n",
    "    TEST_NEG = DATA_NORM_NEG\n",
    "\n",
    "    TEST_POS = DATA_NORM_POS.tail(len(DATA_NORM_POS)-num_am_grupo_pos)\n",
    "\n",
    "    X_TEST = pd.concat([TEST_NEG,TEST_POS], ignore_index = True).drop('resul_prop', axis = 1)\n",
    "    Y_TEST = pd.concat([TEST_NEG,TEST_POS], ignore_index = True)['resul_prop']\n",
    "\n",
    "    valores_preditos = svm.predict(X_TEST.to_numpy())\n",
    "\n",
    "    valores_preditos[valores_preditos == -1] = 0\n",
    "\n",
    "    #-------------------------- MÉTRICAS DE DESEMPENHO -------------------------------\n",
    "    #class_names = ['Negativo', 'Positivo']\n",
    "    metricas = pd.concat([metricas, Metrics.cacule_metrics(Y_TEST,valores_preditos)], axis=0, ignore_index=True)\n",
    "\n",
    "Metrics.save_metrics(metricas, \"SVM_\"+str(data.shape[1]-1)+\"V_rep.csv\")\n",
    "\n",
    "print(\"FIM\")"
   ]
  },
  {
   "cell_type": "markdown",
   "metadata": {},
   "source": [
    "## **SVM + ADASYN**"
   ]
  },
  {
   "cell_type": "code",
   "execution_count": 12,
   "metadata": {},
   "outputs": [
    {
     "name": "stdout",
     "output_type": "stream",
     "text": [
      "FIM\n"
     ]
    }
   ],
   "source": [
    "metricas = pd.DataFrame()\n",
    "\n",
    "num_am_grupo_pos = 60\n",
    "\n",
    "for i in range (0,100):\n",
    "    #-------------------------- ADASYN -------------------------------\n",
    "    DATA_NORM_POS = DATA_NORM_POS.sample(frac=1).reset_index(drop=True)\n",
    "    CLASSE_POS_ADASYN = DATA_NORM_POS.head(num_am_grupo_pos)\n",
    "\n",
    "    CLASSE_NEG_ADASYN = DATA_NORM_NEG\n",
    "\n",
    "    X_ADASYN_ORIGINAL = pd.concat([CLASSE_NEG_ADASYN.drop('resul_prop', axis = 1),\n",
    "        CLASSE_POS_ADASYN.drop('resul_prop', axis = 1)]).reset_index(drop=True)\n",
    "\n",
    "    Y_ADASYN_ORIGINAL = pd.concat([CLASSE_NEG_ADASYN['resul_prop'],\n",
    "        CLASSE_POS_ADASYN['resul_prop']]).reset_index(drop=True)\n",
    "\n",
    "    ada = ADASYN(sampling_strategy=0.12, n_neighbors=6)\n",
    "\n",
    "    X_RESAMPLING, Y_RESAMPLING = ada.fit_resample(X_ADASYN_ORIGINAL, Y_ADASYN_ORIGINAL)\n",
    "\n",
    "    #-------------------------- TREINANDO SVM -------------------------------\n",
    "    CLASSE_POS = X_RESAMPLING.assign(resul_prop=Y_RESAMPLING).query('resul_prop == 1').reset_index(drop=True)\n",
    "    \n",
    "    svm = OneClassSVM(gamma='auto', nu=0.45).fit(CLASSE_POS.drop('resul_prop', axis = 1).to_numpy())\n",
    "    \n",
    "    #-------------------------- TESTE SVM -------------------------------\n",
    "    TEST_NEG = DATA_NORM_NEG\n",
    "    \n",
    "    TEST_POS = DATA_NORM_POS.tail(len(DATA_NORM_POS)-num_am_grupo_pos)\n",
    "\n",
    "    X_TEST = pd.concat([TEST_NEG,TEST_POS], ignore_index = True).drop('resul_prop', axis = 1)\n",
    "    Y_TEST = pd.concat([TEST_NEG,TEST_POS], ignore_index = True)['resul_prop']\n",
    "\n",
    "    valores_preditos = svm.predict(X_TEST.to_numpy())\n",
    "\n",
    "    valores_preditos[valores_preditos == -1] = 0\n",
    "\n",
    "    #-------------------------- MÉTRICAS DE DESEMPENHO -------------------------------\n",
    "    #class_names = ['Negativo', 'Positivo']\n",
    "    metricas = pd.concat([metricas, Metrics.cacule_metrics(Y_TEST,valores_preditos)], axis=0, ignore_index=True)\n",
    "\n",
    "Metrics.save_metrics(metricas, \"SVM_\"+str(data.shape[1]-1)+\"V_adasyn.csv\")\n",
    "\n",
    "print(\"FIM\")"
   ]
  },
  {
   "cell_type": "markdown",
   "metadata": {},
   "source": [
    "## **SVM CONTROLE**"
   ]
  },
  {
   "cell_type": "code",
   "execution_count": 14,
   "metadata": {},
   "outputs": [
    {
     "name": "stdout",
     "output_type": "stream",
     "text": [
      "FIM\n"
     ]
    }
   ],
   "source": [
    "metricas = pd.DataFrame()\n",
    "\n",
    "num_am_grupo_pos = 60\n",
    "\n",
    "for i in range (0,100):\n",
    "    #-------------------------- MONTANDO CONJUNTO DE TREINO -------------------------------\n",
    "    DATA_NORM_POS = DATA_NORM_POS.sample(frac=1).reset_index(drop=True)\n",
    "    CLASSE_POS = DATA_NORM_POS.head(num_am_grupo_pos)\n",
    "\n",
    "    #-------------------------- TREINANDO SVM -------------------------------\n",
    "    svm = OneClassSVM(gamma='auto', nu=0.45).fit(CLASSE_POS.drop('resul_prop', axis = 1).to_numpy())\n",
    "\n",
    "    #-------------------------- TESTE SVM -------------------------------\n",
    "    TEST_NEG = DATA_NORM_NEG\n",
    "\n",
    "    TEST_POS = DATA_NORM_POS.tail(len(DATA_NORM_POS)-num_am_grupo_pos)\n",
    "\n",
    "    X_TEST = pd.concat([TEST_NEG,TEST_POS], ignore_index = True).drop('resul_prop', axis = 1)\n",
    "    Y_TEST = pd.concat([TEST_NEG,TEST_POS], ignore_index = True)['resul_prop']\n",
    "    valores_preditos = svm.predict(X_TEST.to_numpy())\n",
    "\n",
    "    valores_preditos[valores_preditos == -1] = 0\n",
    "\n",
    "    #-------------------------- MÉTRICAS DE DESEMPENHO -------------------------------\n",
    "    #class_names = ['Negativo', 'Positivo']\n",
    "    metricas = pd.concat([metricas, Metrics.cacule_metrics(Y_TEST,valores_preditos)], axis=0, ignore_index=True)\n",
    "\n",
    "Metrics.save_metrics(metricas, \"SVM_\"+str(data.shape[1]-1)+\"V_contr.csv\")\n",
    "\n",
    "print(\"FIM\")"
   ]
  }
 ],
 "metadata": {
  "kernelspec": {
   "display_name": "Python 3",
   "language": "python",
   "name": "python3"
  },
  "language_info": {
   "codemirror_mode": {
    "name": "ipython",
    "version": 3
   },
   "file_extension": ".py",
   "mimetype": "text/x-python",
   "name": "python",
   "nbconvert_exporter": "python",
   "pygments_lexer": "ipython3",
   "version": "3.12.0"
  }
 },
 "nbformat": 4,
 "nbformat_minor": 2
}
